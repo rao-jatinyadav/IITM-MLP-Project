{
 "cells": [
  {
   "cell_type": "markdown",
   "id": "e48a6839",
   "metadata": {
    "papermill": {
     "duration": 0.010588,
     "end_time": "2025-03-30T05:26:31.320569",
     "exception": false,
     "start_time": "2025-03-30T05:26:31.309981",
     "status": "completed"
    },
    "tags": []
   },
   "source": [
    "<div style=\"border: 2px solid black;  padding: 16px;\"> <h1 style= \"color:black; text-align:center;\"><strong>SYSTEM THREAT FORECASTER PROJECT</strong></h1></div>"
   ]
  },
  {
   "cell_type": "markdown",
   "id": "1c17ee1a",
   "metadata": {
    "papermill": {
     "duration": 0.009245,
     "end_time": "2025-03-30T05:26:31.340172",
     "exception": false,
     "start_time": "2025-03-30T05:26:31.330927",
     "status": "completed"
    },
    "tags": []
   },
   "source": [
    "<div style=\"border: 2px solid black; padding: 10px;\"> <h4 style= \"color:black; text-align:center;\">Downloading the train_threat_data for the Competition</h4></div>"
   ]
  },
  {
   "cell_type": "code",
   "execution_count": 1,
   "id": "9f64b1a1",
   "metadata": {
    "_cell_guid": "b1076dfc-b9ad-4769-8c92-a6c4dae69d19",
    "_uuid": "8f2839f25d086af736a60e9eeb907d3b93b6e0e5",
    "execution": {
     "iopub.execute_input": "2025-03-30T05:26:31.361178Z",
     "iopub.status.busy": "2025-03-30T05:26:31.360826Z",
     "iopub.status.idle": "2025-03-30T05:26:32.289169Z",
     "shell.execute_reply": "2025-03-30T05:26:32.287865Z"
    },
    "papermill": {
     "duration": 0.941112,
     "end_time": "2025-03-30T05:26:32.291416",
     "exception": false,
     "start_time": "2025-03-30T05:26:31.350304",
     "status": "completed"
    },
    "tags": []
   },
   "outputs": [
    {
     "name": "stdout",
     "output_type": "stream",
     "text": [
      "/kaggle/input/System-Threat-Forecaster/sample_submission.csv\n",
      "/kaggle/input/System-Threat-Forecaster/train.csv\n",
      "/kaggle/input/System-Threat-Forecaster/test.csv\n"
     ]
    }
   ],
   "source": [
    "# This Python 3 environment comes with many helpful analytics libraries installed\n",
    "# It is defined by the kaggle/python Docker image: https://github.com/kaggle/docker-python\n",
    "# For example, here's several helpful packages to load\n",
    "\n",
    "import numpy as np # linear algebra\n",
    "import pandas as pd # data processing, CSV file I/O (e.g. pd.read_csv)\n",
    "\n",
    "# Input data files are available in the read-only \"../input/\" directory\n",
    "# For example, running this (by clicking run or pressing Shift+Enter) will list all files under the input directory\n",
    "\n",
    "import os\n",
    "for dirname, _, filenames in os.walk('/kaggle/input'):\n",
    "    for filename in filenames:\n",
    "        print(os.path.join(dirname, filename))\n",
    "\n",
    "# You can write up to 20GB to the current directory (/kaggle/working/) that gets preserved as output when you create a version using \"Save & Run All\" \n",
    "# You can also write temporary files to /kaggle/temp/, but they won't be saved outside of the current session"
   ]
  },
  {
   "cell_type": "markdown",
   "id": "ee36e373",
   "metadata": {
    "papermill": {
     "duration": 0.00912,
     "end_time": "2025-03-30T05:26:32.310219",
     "exception": false,
     "start_time": "2025-03-30T05:26:32.301099",
     "status": "completed"
    },
    "tags": []
   },
   "source": [
    "<div style=\"border: 2px solid black; padding: 10px;\"> <h4 style= \"color:black; text-align:center;\">Importing Needed Libraries</h4></div>"
   ]
  },
  {
   "cell_type": "code",
   "execution_count": 2,
   "id": "f8c53030",
   "metadata": {
    "execution": {
     "iopub.execute_input": "2025-03-30T05:26:32.330738Z",
     "iopub.status.busy": "2025-03-30T05:26:32.330215Z",
     "iopub.status.idle": "2025-03-30T05:26:35.110437Z",
     "shell.execute_reply": "2025-03-30T05:26:35.109152Z"
    },
    "papermill": {
     "duration": 2.793248,
     "end_time": "2025-03-30T05:26:35.112789",
     "exception": false,
     "start_time": "2025-03-30T05:26:32.319541",
     "status": "completed"
    },
    "tags": []
   },
   "outputs": [],
   "source": [
    "# Data Handling Libraries\n",
    "import pandas as pd\n",
    "import numpy as np\n",
    "\n",
    "# Data Preprocessing Libraries\n",
    "from sklearn.impute import SimpleImputer\n",
    "from sklearn.preprocessing import StandardScaler, OneHotEncoder, LabelEncoder, OrdinalEncoder\n",
    "\n",
    "# Feature Engineering Libraries\n",
    "from sklearn.decomposition import PCA\n",
    "from sklearn.feature_selection import SelectKBest, f_classif, mutual_info_classif\n",
    "from sklearn.linear_model import Lasso, Ridge\n",
    "\n",
    "# Data Splitting and Transformation Libraries\n",
    "from sklearn.model_selection import train_test_split, GridSearchCV\n",
    "from sklearn.compose import ColumnTransformer\n",
    "from sklearn.pipeline import Pipeline\n",
    "\n",
    "# Exploratory Data Analysis (EDA) Libraries\n",
    "import matplotlib.pyplot as plt\n",
    "import seaborn as sns\n",
    "\n",
    "# Machine Learning Classification Models\n",
    "from sklearn.linear_model import LogisticRegression, LogisticRegressionCV, SGDClassifier\n",
    "from sklearn.dummy import DummyClassifier, DummyRegressor\n",
    "from sklearn.neighbors import KNeighborsClassifier\n",
    "from sklearn.tree import DecisionTreeClassifier\n",
    "from sklearn.ensemble import AdaBoostClassifier, RandomForestClassifier\n",
    "from sklearn.svm import SVC\n",
    "from xgboost import XGBClassifier\n",
    "\n",
    "# Machine Learning Evaluation Metrics\n",
    "from sklearn.metrics import (\n",
    "    accuracy_score,\n",
    "    precision_score,\n",
    "    recall_score,\n",
    "    confusion_matrix,\n",
    "    classification_report,\n",
    "    f1_score,\n",
    "    mean_squared_error\n",
    ")\n",
    "\n",
    "# Decision Boundary Display\n",
    "from sklearn.inspection import DecisionBoundaryDisplay\n",
    "from sklearn.decomposition import TruncatedSVD"
   ]
  },
  {
   "cell_type": "markdown",
   "id": "1b1e503c",
   "metadata": {
    "papermill": {
     "duration": 0.009535,
     "end_time": "2025-03-30T05:26:35.132945",
     "exception": false,
     "start_time": "2025-03-30T05:26:35.123410",
     "status": "completed"
    },
    "tags": []
   },
   "source": [
    "<div style=\"border: 2px solid black; padding: 10px;\"> <h4 style= \"color:black; text-align:center;\">Loading of the Training train_threat_data</h4></div>"
   ]
  },
  {
   "cell_type": "code",
   "execution_count": 3,
   "id": "9ae03be0",
   "metadata": {
    "execution": {
     "iopub.execute_input": "2025-03-30T05:26:35.153655Z",
     "iopub.status.busy": "2025-03-30T05:26:35.153119Z",
     "iopub.status.idle": "2025-03-30T05:26:37.307220Z",
     "shell.execute_reply": "2025-03-30T05:26:37.305726Z"
    },
    "papermill": {
     "duration": 2.166318,
     "end_time": "2025-03-30T05:26:37.308833",
     "exception": false,
     "start_time": "2025-03-30T05:26:35.142515",
     "status": "completed"
    },
    "tags": []
   },
   "outputs": [
    {
     "name": "stdout",
     "output_type": "stream",
     "text": [
      "(100000, 76)\n"
     ]
    }
   ],
   "source": [
    "# Read Traning train_threat_data\n",
    "train_threat_data = pd.read_csv('/kaggle/input/System-Threat-Forecaster/train.csv')\n",
    "print(train_threat_data.shape)"
   ]
  },
  {
   "cell_type": "markdown",
   "id": "92b0c7fa",
   "metadata": {
    "papermill": {
     "duration": 0.008835,
     "end_time": "2025-03-30T05:26:37.327220",
     "exception": false,
     "start_time": "2025-03-30T05:26:37.318385",
     "status": "completed"
    },
    "tags": []
   },
   "source": [
    "<div style=\"border: 2px solid black; padding: 10px;\"> <h4 style= \"color:black; text-align:center;\">EDA (Exploratory Data Analysis)</h4></div>\n"
   ]
  },
  {
   "cell_type": "markdown",
   "id": "b644d8b2",
   "metadata": {
    "papermill": {
     "duration": 0.008675,
     "end_time": "2025-03-30T05:26:37.344916",
     "exception": false,
     "start_time": "2025-03-30T05:26:37.336241",
     "status": "completed"
    },
    "tags": []
   },
   "source": [
    "<div style=\"border: 2px solid black; padding: 10px;\"> <h5 style= \"color:black; text-align:center;\">Information about the Data</h5></div>"
   ]
  },
  {
   "cell_type": "code",
   "execution_count": 4,
   "id": "375f25ff",
   "metadata": {
    "execution": {
     "iopub.execute_input": "2025-03-30T05:26:37.364422Z",
     "iopub.status.busy": "2025-03-30T05:26:37.363984Z",
     "iopub.status.idle": "2025-03-30T05:26:37.463728Z",
     "shell.execute_reply": "2025-03-30T05:26:37.462538Z"
    },
    "papermill": {
     "duration": 0.111544,
     "end_time": "2025-03-30T05:26:37.465416",
     "exception": false,
     "start_time": "2025-03-30T05:26:37.353872",
     "status": "completed"
    },
    "tags": []
   },
   "outputs": [
    {
     "data": {
      "text/html": [
       "<div>\n",
       "<style scoped>\n",
       "    .dataframe tbody tr th:only-of-type {\n",
       "        vertical-align: middle;\n",
       "    }\n",
       "\n",
       "    .dataframe tbody tr th {\n",
       "        vertical-align: top;\n",
       "    }\n",
       "\n",
       "    .dataframe thead th {\n",
       "        text-align: right;\n",
       "    }\n",
       "</style>\n",
       "<table border=\"1\" class=\"dataframe\">\n",
       "  <thead>\n",
       "    <tr style=\"text-align: right;\">\n",
       "      <th></th>\n",
       "      <th>MachineID</th>\n",
       "      <th>ProductName</th>\n",
       "      <th>EngineVersion</th>\n",
       "      <th>AppVersion</th>\n",
       "      <th>SignatureVersion</th>\n",
       "      <th>IsBetaUser</th>\n",
       "      <th>RealTimeProtectionState</th>\n",
       "      <th>IsPassiveModeEnabled</th>\n",
       "      <th>AntivirusConfigID</th>\n",
       "      <th>NumAntivirusProductsInstalled</th>\n",
       "      <th>...</th>\n",
       "      <th>IsSecureBootEnabled</th>\n",
       "      <th>IsVirtualDevice</th>\n",
       "      <th>IsTouchEnabled</th>\n",
       "      <th>IsPenCapable</th>\n",
       "      <th>IsAlwaysOnAlwaysConnectedCapable</th>\n",
       "      <th>IsGamer</th>\n",
       "      <th>RegionIdentifier</th>\n",
       "      <th>DateAS</th>\n",
       "      <th>DateOS</th>\n",
       "      <th>target</th>\n",
       "    </tr>\n",
       "  </thead>\n",
       "  <tbody>\n",
       "    <tr>\n",
       "      <th>0</th>\n",
       "      <td>f541bae429089117c4aac39c90dd3416</td>\n",
       "      <td>win8defender</td>\n",
       "      <td>1.1.15200.1</td>\n",
       "      <td>4.18.1807.18075</td>\n",
       "      <td>1.275.1003.0</td>\n",
       "      <td>0</td>\n",
       "      <td>7.0</td>\n",
       "      <td>0</td>\n",
       "      <td>53447.0</td>\n",
       "      <td>1.0</td>\n",
       "      <td>...</td>\n",
       "      <td>0</td>\n",
       "      <td>0.0</td>\n",
       "      <td>1</td>\n",
       "      <td>0</td>\n",
       "      <td>1.0</td>\n",
       "      <td>0.0</td>\n",
       "      <td>6.0</td>\n",
       "      <td>2018-09-10 10:11:00</td>\n",
       "      <td>2018-04-17</td>\n",
       "      <td>0</td>\n",
       "    </tr>\n",
       "    <tr>\n",
       "      <th>1</th>\n",
       "      <td>dc2b14d9ce3a0ce4050bb640190f2ca5</td>\n",
       "      <td>win8defender</td>\n",
       "      <td>1.1.15100.1</td>\n",
       "      <td>4.18.1807.18075</td>\n",
       "      <td>1.273.1465.0</td>\n",
       "      <td>0</td>\n",
       "      <td>7.0</td>\n",
       "      <td>0</td>\n",
       "      <td>53447.0</td>\n",
       "      <td>1.0</td>\n",
       "      <td>...</td>\n",
       "      <td>1</td>\n",
       "      <td>0.0</td>\n",
       "      <td>0</td>\n",
       "      <td>0</td>\n",
       "      <td>0.0</td>\n",
       "      <td>0.0</td>\n",
       "      <td>10.0</td>\n",
       "      <td>2018-08-16 00:01:00</td>\n",
       "      <td>2018-08-14</td>\n",
       "      <td>1</td>\n",
       "    </tr>\n",
       "    <tr>\n",
       "      <th>2</th>\n",
       "      <td>fd20c5f010e9c5f91ad1c6b3e0da68a0</td>\n",
       "      <td>win8defender</td>\n",
       "      <td>1.1.15200.1</td>\n",
       "      <td>4.18.1807.18075</td>\n",
       "      <td>1.275.1546.0</td>\n",
       "      <td>0</td>\n",
       "      <td>7.0</td>\n",
       "      <td>0</td>\n",
       "      <td>53447.0</td>\n",
       "      <td>1.0</td>\n",
       "      <td>...</td>\n",
       "      <td>0</td>\n",
       "      <td>0.0</td>\n",
       "      <td>0</td>\n",
       "      <td>0</td>\n",
       "      <td>0.0</td>\n",
       "      <td>1.0</td>\n",
       "      <td>6.0</td>\n",
       "      <td>2018-09-20 23:20:00</td>\n",
       "      <td>2018-09-11</td>\n",
       "      <td>1</td>\n",
       "    </tr>\n",
       "    <tr>\n",
       "      <th>3</th>\n",
       "      <td>38711eae85eb77a72ec5dfdf27eb2a76</td>\n",
       "      <td>win8defender</td>\n",
       "      <td>1.1.15200.1</td>\n",
       "      <td>4.12.17007.18011</td>\n",
       "      <td>1.275.1141.0</td>\n",
       "      <td>0</td>\n",
       "      <td>7.0</td>\n",
       "      <td>0</td>\n",
       "      <td>46413.0</td>\n",
       "      <td>2.0</td>\n",
       "      <td>...</td>\n",
       "      <td>1</td>\n",
       "      <td>0.0</td>\n",
       "      <td>0</td>\n",
       "      <td>0</td>\n",
       "      <td>0.0</td>\n",
       "      <td>0.0</td>\n",
       "      <td>12.0</td>\n",
       "      <td>2018-09-14 00:32:00</td>\n",
       "      <td>2018-01-03</td>\n",
       "      <td>1</td>\n",
       "    </tr>\n",
       "    <tr>\n",
       "      <th>4</th>\n",
       "      <td>32607c9a543a9214e2c7e45800ed4849</td>\n",
       "      <td>win8defender</td>\n",
       "      <td>1.1.15200.1</td>\n",
       "      <td>4.13.17134.228</td>\n",
       "      <td>1.275.1283.0</td>\n",
       "      <td>0</td>\n",
       "      <td>7.0</td>\n",
       "      <td>0</td>\n",
       "      <td>40466.0</td>\n",
       "      <td>2.0</td>\n",
       "      <td>...</td>\n",
       "      <td>0</td>\n",
       "      <td>0.0</td>\n",
       "      <td>0</td>\n",
       "      <td>0</td>\n",
       "      <td>0.0</td>\n",
       "      <td>1.0</td>\n",
       "      <td>7.0</td>\n",
       "      <td>2018-09-15 19:34:00</td>\n",
       "      <td>2018-09-11</td>\n",
       "      <td>0</td>\n",
       "    </tr>\n",
       "    <tr>\n",
       "      <th>...</th>\n",
       "      <td>...</td>\n",
       "      <td>...</td>\n",
       "      <td>...</td>\n",
       "      <td>...</td>\n",
       "      <td>...</td>\n",
       "      <td>...</td>\n",
       "      <td>...</td>\n",
       "      <td>...</td>\n",
       "      <td>...</td>\n",
       "      <td>...</td>\n",
       "      <td>...</td>\n",
       "      <td>...</td>\n",
       "      <td>...</td>\n",
       "      <td>...</td>\n",
       "      <td>...</td>\n",
       "      <td>...</td>\n",
       "      <td>...</td>\n",
       "      <td>...</td>\n",
       "      <td>...</td>\n",
       "      <td>...</td>\n",
       "      <td>...</td>\n",
       "    </tr>\n",
       "    <tr>\n",
       "      <th>99995</th>\n",
       "      <td>a378b2196a7a1d8ee0d4f989ee46730e</td>\n",
       "      <td>win8defender</td>\n",
       "      <td>1.1.15200.1</td>\n",
       "      <td>4.18.1807.18075</td>\n",
       "      <td>1.275.1582.0</td>\n",
       "      <td>0</td>\n",
       "      <td>7.0</td>\n",
       "      <td>0</td>\n",
       "      <td>68585.0</td>\n",
       "      <td>2.0</td>\n",
       "      <td>...</td>\n",
       "      <td>0</td>\n",
       "      <td>0.0</td>\n",
       "      <td>0</td>\n",
       "      <td>0</td>\n",
       "      <td>0.0</td>\n",
       "      <td>1.0</td>\n",
       "      <td>7.0</td>\n",
       "      <td>2018-09-21 00:59:00</td>\n",
       "      <td>2018-09-20</td>\n",
       "      <td>0</td>\n",
       "    </tr>\n",
       "    <tr>\n",
       "      <th>99996</th>\n",
       "      <td>7f4433ca05d24b9bbdd3932f8b05e61f</td>\n",
       "      <td>win8defender</td>\n",
       "      <td>1.1.15100.1</td>\n",
       "      <td>4.18.1806.18062</td>\n",
       "      <td>1.273.1156.0</td>\n",
       "      <td>0</td>\n",
       "      <td>7.0</td>\n",
       "      <td>0</td>\n",
       "      <td>11280.0</td>\n",
       "      <td>2.0</td>\n",
       "      <td>...</td>\n",
       "      <td>0</td>\n",
       "      <td>0.0</td>\n",
       "      <td>0</td>\n",
       "      <td>0</td>\n",
       "      <td>0.0</td>\n",
       "      <td>0.0</td>\n",
       "      <td>3.0</td>\n",
       "      <td>2018-08-10 07:23:00</td>\n",
       "      <td>2018-07-10</td>\n",
       "      <td>0</td>\n",
       "    </tr>\n",
       "    <tr>\n",
       "      <th>99997</th>\n",
       "      <td>d6852dfff534e03d5ddfd3c7875ab072</td>\n",
       "      <td>win8defender</td>\n",
       "      <td>1.1.15200.1</td>\n",
       "      <td>4.18.1807.18075</td>\n",
       "      <td>1.275.209.0</td>\n",
       "      <td>0</td>\n",
       "      <td>7.0</td>\n",
       "      <td>0</td>\n",
       "      <td>53447.0</td>\n",
       "      <td>1.0</td>\n",
       "      <td>...</td>\n",
       "      <td>1</td>\n",
       "      <td>0.0</td>\n",
       "      <td>0</td>\n",
       "      <td>0</td>\n",
       "      <td>0.0</td>\n",
       "      <td>1.0</td>\n",
       "      <td>1.0</td>\n",
       "      <td>2018-08-26 23:51:00</td>\n",
       "      <td>2018-03-13</td>\n",
       "      <td>1</td>\n",
       "    </tr>\n",
       "    <tr>\n",
       "      <th>99998</th>\n",
       "      <td>70a8dc682128c9ff78a3de5aea9dac74</td>\n",
       "      <td>win8defender</td>\n",
       "      <td>1.1.14901.4</td>\n",
       "      <td>4.16.17656.18052</td>\n",
       "      <td>1.269.641.0</td>\n",
       "      <td>0</td>\n",
       "      <td>7.0</td>\n",
       "      <td>0</td>\n",
       "      <td>53447.0</td>\n",
       "      <td>1.0</td>\n",
       "      <td>...</td>\n",
       "      <td>1</td>\n",
       "      <td>0.0</td>\n",
       "      <td>1</td>\n",
       "      <td>1</td>\n",
       "      <td>1.0</td>\n",
       "      <td>0.0</td>\n",
       "      <td>1.0</td>\n",
       "      <td>2018-06-04 17:13:00</td>\n",
       "      <td>2018-05-08</td>\n",
       "      <td>0</td>\n",
       "    </tr>\n",
       "    <tr>\n",
       "      <th>99999</th>\n",
       "      <td>ad9c385b53f2ca788933a39603b84eda</td>\n",
       "      <td>win8defender</td>\n",
       "      <td>1.1.15000.2</td>\n",
       "      <td>4.18.1806.18062</td>\n",
       "      <td>1.271.1003.0</td>\n",
       "      <td>0</td>\n",
       "      <td>7.0</td>\n",
       "      <td>0</td>\n",
       "      <td>7945.0</td>\n",
       "      <td>2.0</td>\n",
       "      <td>...</td>\n",
       "      <td>1</td>\n",
       "      <td>0.0</td>\n",
       "      <td>0</td>\n",
       "      <td>0</td>\n",
       "      <td>0.0</td>\n",
       "      <td>1.0</td>\n",
       "      <td>11.0</td>\n",
       "      <td>2018-07-14 15:36:00</td>\n",
       "      <td>2018-08-14</td>\n",
       "      <td>0</td>\n",
       "    </tr>\n",
       "  </tbody>\n",
       "</table>\n",
       "<p>100000 rows × 76 columns</p>\n",
       "</div>"
      ],
      "text/plain": [
       "                              MachineID   ProductName EngineVersion  \\\n",
       "0      f541bae429089117c4aac39c90dd3416  win8defender   1.1.15200.1   \n",
       "1      dc2b14d9ce3a0ce4050bb640190f2ca5  win8defender   1.1.15100.1   \n",
       "2      fd20c5f010e9c5f91ad1c6b3e0da68a0  win8defender   1.1.15200.1   \n",
       "3      38711eae85eb77a72ec5dfdf27eb2a76  win8defender   1.1.15200.1   \n",
       "4      32607c9a543a9214e2c7e45800ed4849  win8defender   1.1.15200.1   \n",
       "...                                 ...           ...           ...   \n",
       "99995  a378b2196a7a1d8ee0d4f989ee46730e  win8defender   1.1.15200.1   \n",
       "99996  7f4433ca05d24b9bbdd3932f8b05e61f  win8defender   1.1.15100.1   \n",
       "99997  d6852dfff534e03d5ddfd3c7875ab072  win8defender   1.1.15200.1   \n",
       "99998  70a8dc682128c9ff78a3de5aea9dac74  win8defender   1.1.14901.4   \n",
       "99999  ad9c385b53f2ca788933a39603b84eda  win8defender   1.1.15000.2   \n",
       "\n",
       "             AppVersion SignatureVersion  IsBetaUser  RealTimeProtectionState  \\\n",
       "0       4.18.1807.18075     1.275.1003.0           0                      7.0   \n",
       "1       4.18.1807.18075     1.273.1465.0           0                      7.0   \n",
       "2       4.18.1807.18075     1.275.1546.0           0                      7.0   \n",
       "3      4.12.17007.18011     1.275.1141.0           0                      7.0   \n",
       "4        4.13.17134.228     1.275.1283.0           0                      7.0   \n",
       "...                 ...              ...         ...                      ...   \n",
       "99995   4.18.1807.18075     1.275.1582.0           0                      7.0   \n",
       "99996   4.18.1806.18062     1.273.1156.0           0                      7.0   \n",
       "99997   4.18.1807.18075      1.275.209.0           0                      7.0   \n",
       "99998  4.16.17656.18052      1.269.641.0           0                      7.0   \n",
       "99999   4.18.1806.18062     1.271.1003.0           0                      7.0   \n",
       "\n",
       "       IsPassiveModeEnabled  AntivirusConfigID  NumAntivirusProductsInstalled  \\\n",
       "0                         0            53447.0                            1.0   \n",
       "1                         0            53447.0                            1.0   \n",
       "2                         0            53447.0                            1.0   \n",
       "3                         0            46413.0                            2.0   \n",
       "4                         0            40466.0                            2.0   \n",
       "...                     ...                ...                            ...   \n",
       "99995                     0            68585.0                            2.0   \n",
       "99996                     0            11280.0                            2.0   \n",
       "99997                     0            53447.0                            1.0   \n",
       "99998                     0            53447.0                            1.0   \n",
       "99999                     0             7945.0                            2.0   \n",
       "\n",
       "       ...  IsSecureBootEnabled  IsVirtualDevice  IsTouchEnabled  \\\n",
       "0      ...                    0              0.0               1   \n",
       "1      ...                    1              0.0               0   \n",
       "2      ...                    0              0.0               0   \n",
       "3      ...                    1              0.0               0   \n",
       "4      ...                    0              0.0               0   \n",
       "...    ...                  ...              ...             ...   \n",
       "99995  ...                    0              0.0               0   \n",
       "99996  ...                    0              0.0               0   \n",
       "99997  ...                    1              0.0               0   \n",
       "99998  ...                    1              0.0               1   \n",
       "99999  ...                    1              0.0               0   \n",
       "\n",
       "       IsPenCapable  IsAlwaysOnAlwaysConnectedCapable  IsGamer  \\\n",
       "0                 0                               1.0      0.0   \n",
       "1                 0                               0.0      0.0   \n",
       "2                 0                               0.0      1.0   \n",
       "3                 0                               0.0      0.0   \n",
       "4                 0                               0.0      1.0   \n",
       "...             ...                               ...      ...   \n",
       "99995             0                               0.0      1.0   \n",
       "99996             0                               0.0      0.0   \n",
       "99997             0                               0.0      1.0   \n",
       "99998             1                               1.0      0.0   \n",
       "99999             0                               0.0      1.0   \n",
       "\n",
       "      RegionIdentifier               DateAS      DateOS  target  \n",
       "0                  6.0  2018-09-10 10:11:00  2018-04-17       0  \n",
       "1                 10.0  2018-08-16 00:01:00  2018-08-14       1  \n",
       "2                  6.0  2018-09-20 23:20:00  2018-09-11       1  \n",
       "3                 12.0  2018-09-14 00:32:00  2018-01-03       1  \n",
       "4                  7.0  2018-09-15 19:34:00  2018-09-11       0  \n",
       "...                ...                  ...         ...     ...  \n",
       "99995              7.0  2018-09-21 00:59:00  2018-09-20       0  \n",
       "99996              3.0  2018-08-10 07:23:00  2018-07-10       0  \n",
       "99997              1.0  2018-08-26 23:51:00  2018-03-13       1  \n",
       "99998              1.0  2018-06-04 17:13:00  2018-05-08       0  \n",
       "99999             11.0  2018-07-14 15:36:00  2018-08-14       0  \n",
       "\n",
       "[100000 rows x 76 columns]"
      ]
     },
     "execution_count": 4,
     "metadata": {},
     "output_type": "execute_result"
    }
   ],
   "source": [
    "train_threat_data"
   ]
  },
  {
   "cell_type": "code",
   "execution_count": 5,
   "id": "03573f3e",
   "metadata": {
    "execution": {
     "iopub.execute_input": "2025-03-30T05:26:37.487021Z",
     "iopub.status.busy": "2025-03-30T05:26:37.486577Z",
     "iopub.status.idle": "2025-03-30T05:26:37.496044Z",
     "shell.execute_reply": "2025-03-30T05:26:37.494771Z"
    },
    "papermill": {
     "duration": 0.022295,
     "end_time": "2025-03-30T05:26:37.497815",
     "exception": false,
     "start_time": "2025-03-30T05:26:37.475520",
     "status": "completed"
    },
    "tags": []
   },
   "outputs": [
    {
     "data": {
      "text/plain": [
       "MachineID            object\n",
       "ProductName          object\n",
       "EngineVersion        object\n",
       "AppVersion           object\n",
       "SignatureVersion     object\n",
       "                     ...   \n",
       "IsGamer             float64\n",
       "RegionIdentifier    float64\n",
       "DateAS               object\n",
       "DateOS               object\n",
       "target                int64\n",
       "Length: 76, dtype: object"
      ]
     },
     "execution_count": 5,
     "metadata": {},
     "output_type": "execute_result"
    }
   ],
   "source": [
    "train_threat_data.dtypes"
   ]
  },
  {
   "cell_type": "code",
   "execution_count": 6,
   "id": "375a94e6",
   "metadata": {
    "execution": {
     "iopub.execute_input": "2025-03-30T05:26:37.521021Z",
     "iopub.status.busy": "2025-03-30T05:26:37.520583Z",
     "iopub.status.idle": "2025-03-30T05:26:37.813061Z",
     "shell.execute_reply": "2025-03-30T05:26:37.811765Z"
    },
    "papermill": {
     "duration": 0.306494,
     "end_time": "2025-03-30T05:26:37.814992",
     "exception": false,
     "start_time": "2025-03-30T05:26:37.508498",
     "status": "completed"
    },
    "tags": []
   },
   "outputs": [
    {
     "name": "stdout",
     "output_type": "stream",
     "text": [
      "\n",
      "Summary Statistics:\n"
     ]
    },
    {
     "data": {
      "text/html": [
       "<div>\n",
       "<style scoped>\n",
       "    .dataframe tbody tr th:only-of-type {\n",
       "        vertical-align: middle;\n",
       "    }\n",
       "\n",
       "    .dataframe tbody tr th {\n",
       "        vertical-align: top;\n",
       "    }\n",
       "\n",
       "    .dataframe thead th {\n",
       "        text-align: right;\n",
       "    }\n",
       "</style>\n",
       "<table border=\"1\" class=\"dataframe\">\n",
       "  <thead>\n",
       "    <tr style=\"text-align: right;\">\n",
       "      <th></th>\n",
       "      <th>IsBetaUser</th>\n",
       "      <th>RealTimeProtectionState</th>\n",
       "      <th>IsPassiveModeEnabled</th>\n",
       "      <th>AntivirusConfigID</th>\n",
       "      <th>NumAntivirusProductsInstalled</th>\n",
       "      <th>NumAntivirusProductsEnabled</th>\n",
       "      <th>HasTpm</th>\n",
       "      <th>CountryID</th>\n",
       "      <th>CityID</th>\n",
       "      <th>GeoRegionID</th>\n",
       "      <th>...</th>\n",
       "      <th>FirmwareManufacturerID</th>\n",
       "      <th>FirmwareVersionID</th>\n",
       "      <th>IsSecureBootEnabled</th>\n",
       "      <th>IsVirtualDevice</th>\n",
       "      <th>IsTouchEnabled</th>\n",
       "      <th>IsPenCapable</th>\n",
       "      <th>IsAlwaysOnAlwaysConnectedCapable</th>\n",
       "      <th>IsGamer</th>\n",
       "      <th>RegionIdentifier</th>\n",
       "      <th>target</th>\n",
       "    </tr>\n",
       "  </thead>\n",
       "  <tbody>\n",
       "    <tr>\n",
       "      <th>count</th>\n",
       "      <td>100000.0</td>\n",
       "      <td>99934.000000</td>\n",
       "      <td>100000.000000</td>\n",
       "      <td>99924.000000</td>\n",
       "      <td>99924.000000</td>\n",
       "      <td>99924.000000</td>\n",
       "      <td>100000.000000</td>\n",
       "      <td>100000.000000</td>\n",
       "      <td>99377.000000</td>\n",
       "      <td>100000.000000</td>\n",
       "      <td>...</td>\n",
       "      <td>99624.000000</td>\n",
       "      <td>99666.000000</td>\n",
       "      <td>100000.000000</td>\n",
       "      <td>99980.000000</td>\n",
       "      <td>100000.000000</td>\n",
       "      <td>100000.000000</td>\n",
       "      <td>99866.000000</td>\n",
       "      <td>99441.000000</td>\n",
       "      <td>99441.000000</td>\n",
       "      <td>100000.000000</td>\n",
       "    </tr>\n",
       "    <tr>\n",
       "      <th>mean</th>\n",
       "      <td>0.0</td>\n",
       "      <td>6.848430</td>\n",
       "      <td>0.017620</td>\n",
       "      <td>47975.710440</td>\n",
       "      <td>1.326528</td>\n",
       "      <td>1.018264</td>\n",
       "      <td>0.996780</td>\n",
       "      <td>108.078790</td>\n",
       "      <td>81029.938587</td>\n",
       "      <td>169.741630</td>\n",
       "      <td>...</td>\n",
       "      <td>401.987613</td>\n",
       "      <td>32942.648044</td>\n",
       "      <td>0.495690</td>\n",
       "      <td>0.003841</td>\n",
       "      <td>0.128470</td>\n",
       "      <td>0.040580</td>\n",
       "      <td>0.058398</td>\n",
       "      <td>0.296668</td>\n",
       "      <td>7.875866</td>\n",
       "      <td>0.505250</td>\n",
       "    </tr>\n",
       "    <tr>\n",
       "      <th>std</th>\n",
       "      <td>0.0</td>\n",
       "      <td>1.015166</td>\n",
       "      <td>0.131566</td>\n",
       "      <td>13803.321533</td>\n",
       "      <td>0.520681</td>\n",
       "      <td>0.155291</td>\n",
       "      <td>0.056654</td>\n",
       "      <td>63.062151</td>\n",
       "      <td>48944.027074</td>\n",
       "      <td>89.188929</td>\n",
       "      <td>...</td>\n",
       "      <td>221.318891</td>\n",
       "      <td>21151.970827</td>\n",
       "      <td>0.499984</td>\n",
       "      <td>0.061855</td>\n",
       "      <td>0.334614</td>\n",
       "      <td>0.197316</td>\n",
       "      <td>0.234496</td>\n",
       "      <td>0.456791</td>\n",
       "      <td>4.562533</td>\n",
       "      <td>0.499975</td>\n",
       "    </tr>\n",
       "    <tr>\n",
       "      <th>min</th>\n",
       "      <td>0.0</td>\n",
       "      <td>0.000000</td>\n",
       "      <td>0.000000</td>\n",
       "      <td>39.000000</td>\n",
       "      <td>1.000000</td>\n",
       "      <td>0.000000</td>\n",
       "      <td>0.000000</td>\n",
       "      <td>1.000000</td>\n",
       "      <td>7.000000</td>\n",
       "      <td>1.000000</td>\n",
       "      <td>...</td>\n",
       "      <td>2.000000</td>\n",
       "      <td>121.000000</td>\n",
       "      <td>0.000000</td>\n",
       "      <td>0.000000</td>\n",
       "      <td>0.000000</td>\n",
       "      <td>0.000000</td>\n",
       "      <td>0.000000</td>\n",
       "      <td>0.000000</td>\n",
       "      <td>1.000000</td>\n",
       "      <td>0.000000</td>\n",
       "    </tr>\n",
       "    <tr>\n",
       "      <th>25%</th>\n",
       "      <td>0.0</td>\n",
       "      <td>7.000000</td>\n",
       "      <td>0.000000</td>\n",
       "      <td>49480.000000</td>\n",
       "      <td>1.000000</td>\n",
       "      <td>1.000000</td>\n",
       "      <td>1.000000</td>\n",
       "      <td>51.000000</td>\n",
       "      <td>36694.000000</td>\n",
       "      <td>89.000000</td>\n",
       "      <td>...</td>\n",
       "      <td>142.000000</td>\n",
       "      <td>13020.000000</td>\n",
       "      <td>0.000000</td>\n",
       "      <td>0.000000</td>\n",
       "      <td>0.000000</td>\n",
       "      <td>0.000000</td>\n",
       "      <td>0.000000</td>\n",
       "      <td>0.000000</td>\n",
       "      <td>3.000000</td>\n",
       "      <td>0.000000</td>\n",
       "    </tr>\n",
       "    <tr>\n",
       "      <th>50%</th>\n",
       "      <td>0.0</td>\n",
       "      <td>7.000000</td>\n",
       "      <td>0.000000</td>\n",
       "      <td>53447.000000</td>\n",
       "      <td>1.000000</td>\n",
       "      <td>1.000000</td>\n",
       "      <td>1.000000</td>\n",
       "      <td>97.000000</td>\n",
       "      <td>82373.000000</td>\n",
       "      <td>181.000000</td>\n",
       "      <td>...</td>\n",
       "      <td>500.000000</td>\n",
       "      <td>33066.000000</td>\n",
       "      <td>0.000000</td>\n",
       "      <td>0.000000</td>\n",
       "      <td>0.000000</td>\n",
       "      <td>0.000000</td>\n",
       "      <td>0.000000</td>\n",
       "      <td>0.000000</td>\n",
       "      <td>10.000000</td>\n",
       "      <td>1.000000</td>\n",
       "    </tr>\n",
       "    <tr>\n",
       "      <th>75%</th>\n",
       "      <td>0.0</td>\n",
       "      <td>7.000000</td>\n",
       "      <td>0.000000</td>\n",
       "      <td>53447.000000</td>\n",
       "      <td>2.000000</td>\n",
       "      <td>1.000000</td>\n",
       "      <td>1.000000</td>\n",
       "      <td>162.000000</td>\n",
       "      <td>122835.000000</td>\n",
       "      <td>267.000000</td>\n",
       "      <td>...</td>\n",
       "      <td>556.000000</td>\n",
       "      <td>52357.000000</td>\n",
       "      <td>1.000000</td>\n",
       "      <td>0.000000</td>\n",
       "      <td>0.000000</td>\n",
       "      <td>0.000000</td>\n",
       "      <td>0.000000</td>\n",
       "      <td>1.000000</td>\n",
       "      <td>11.000000</td>\n",
       "      <td>1.000000</td>\n",
       "    </tr>\n",
       "    <tr>\n",
       "      <th>max</th>\n",
       "      <td>0.0</td>\n",
       "      <td>8.000000</td>\n",
       "      <td>1.000000</td>\n",
       "      <td>70490.000000</td>\n",
       "      <td>5.000000</td>\n",
       "      <td>4.000000</td>\n",
       "      <td>1.000000</td>\n",
       "      <td>222.000000</td>\n",
       "      <td>167957.000000</td>\n",
       "      <td>296.000000</td>\n",
       "      <td>...</td>\n",
       "      <td>1083.000000</td>\n",
       "      <td>72091.000000</td>\n",
       "      <td>1.000000</td>\n",
       "      <td>1.000000</td>\n",
       "      <td>1.000000</td>\n",
       "      <td>1.000000</td>\n",
       "      <td>1.000000</td>\n",
       "      <td>1.000000</td>\n",
       "      <td>15.000000</td>\n",
       "      <td>1.000000</td>\n",
       "    </tr>\n",
       "  </tbody>\n",
       "</table>\n",
       "<p>8 rows × 48 columns</p>\n",
       "</div>"
      ],
      "text/plain": [
       "       IsBetaUser  RealTimeProtectionState  IsPassiveModeEnabled  \\\n",
       "count    100000.0             99934.000000         100000.000000   \n",
       "mean          0.0                 6.848430              0.017620   \n",
       "std           0.0                 1.015166              0.131566   \n",
       "min           0.0                 0.000000              0.000000   \n",
       "25%           0.0                 7.000000              0.000000   \n",
       "50%           0.0                 7.000000              0.000000   \n",
       "75%           0.0                 7.000000              0.000000   \n",
       "max           0.0                 8.000000              1.000000   \n",
       "\n",
       "       AntivirusConfigID  NumAntivirusProductsInstalled  \\\n",
       "count       99924.000000                   99924.000000   \n",
       "mean        47975.710440                       1.326528   \n",
       "std         13803.321533                       0.520681   \n",
       "min            39.000000                       1.000000   \n",
       "25%         49480.000000                       1.000000   \n",
       "50%         53447.000000                       1.000000   \n",
       "75%         53447.000000                       2.000000   \n",
       "max         70490.000000                       5.000000   \n",
       "\n",
       "       NumAntivirusProductsEnabled         HasTpm      CountryID  \\\n",
       "count                 99924.000000  100000.000000  100000.000000   \n",
       "mean                      1.018264       0.996780     108.078790   \n",
       "std                       0.155291       0.056654      63.062151   \n",
       "min                       0.000000       0.000000       1.000000   \n",
       "25%                       1.000000       1.000000      51.000000   \n",
       "50%                       1.000000       1.000000      97.000000   \n",
       "75%                       1.000000       1.000000     162.000000   \n",
       "max                       4.000000       1.000000     222.000000   \n",
       "\n",
       "              CityID    GeoRegionID  ...  FirmwareManufacturerID  \\\n",
       "count   99377.000000  100000.000000  ...            99624.000000   \n",
       "mean    81029.938587     169.741630  ...              401.987613   \n",
       "std     48944.027074      89.188929  ...              221.318891   \n",
       "min         7.000000       1.000000  ...                2.000000   \n",
       "25%     36694.000000      89.000000  ...              142.000000   \n",
       "50%     82373.000000     181.000000  ...              500.000000   \n",
       "75%    122835.000000     267.000000  ...              556.000000   \n",
       "max    167957.000000     296.000000  ...             1083.000000   \n",
       "\n",
       "       FirmwareVersionID  IsSecureBootEnabled  IsVirtualDevice  \\\n",
       "count       99666.000000        100000.000000     99980.000000   \n",
       "mean        32942.648044             0.495690         0.003841   \n",
       "std         21151.970827             0.499984         0.061855   \n",
       "min           121.000000             0.000000         0.000000   \n",
       "25%         13020.000000             0.000000         0.000000   \n",
       "50%         33066.000000             0.000000         0.000000   \n",
       "75%         52357.000000             1.000000         0.000000   \n",
       "max         72091.000000             1.000000         1.000000   \n",
       "\n",
       "       IsTouchEnabled   IsPenCapable  IsAlwaysOnAlwaysConnectedCapable  \\\n",
       "count   100000.000000  100000.000000                      99866.000000   \n",
       "mean         0.128470       0.040580                          0.058398   \n",
       "std          0.334614       0.197316                          0.234496   \n",
       "min          0.000000       0.000000                          0.000000   \n",
       "25%          0.000000       0.000000                          0.000000   \n",
       "50%          0.000000       0.000000                          0.000000   \n",
       "75%          0.000000       0.000000                          0.000000   \n",
       "max          1.000000       1.000000                          1.000000   \n",
       "\n",
       "            IsGamer  RegionIdentifier         target  \n",
       "count  99441.000000      99441.000000  100000.000000  \n",
       "mean       0.296668          7.875866       0.505250  \n",
       "std        0.456791          4.562533       0.499975  \n",
       "min        0.000000          1.000000       0.000000  \n",
       "25%        0.000000          3.000000       0.000000  \n",
       "50%        0.000000         10.000000       1.000000  \n",
       "75%        1.000000         11.000000       1.000000  \n",
       "max        1.000000         15.000000       1.000000  \n",
       "\n",
       "[8 rows x 48 columns]"
      ]
     },
     "execution_count": 6,
     "metadata": {},
     "output_type": "execute_result"
    }
   ],
   "source": [
    "print(\"\\nSummary Statistics:\")\n",
    "train_threat_data.describe()"
   ]
  },
  {
   "cell_type": "code",
   "execution_count": 7,
   "id": "dfe67552",
   "metadata": {
    "execution": {
     "iopub.execute_input": "2025-03-30T05:26:37.838361Z",
     "iopub.status.busy": "2025-03-30T05:26:37.837932Z",
     "iopub.status.idle": "2025-03-30T05:26:38.050292Z",
     "shell.execute_reply": "2025-03-30T05:26:38.048664Z"
    },
    "papermill": {
     "duration": 0.227677,
     "end_time": "2025-03-30T05:26:38.053541",
     "exception": false,
     "start_time": "2025-03-30T05:26:37.825864",
     "status": "completed"
    },
    "tags": []
   },
   "outputs": [
    {
     "name": "stdout",
     "output_type": "stream",
     "text": [
      "\n",
      "train_threat_data Info:\n",
      "<class 'pandas.core.frame.DataFrame'>\n",
      "RangeIndex: 100000 entries, 0 to 99999\n",
      "Data columns (total 76 columns):\n",
      " #   Column                              Non-Null Count   Dtype  \n",
      "---  ------                              --------------   -----  \n",
      " 0   MachineID                           100000 non-null  object \n",
      " 1   ProductName                         100000 non-null  object \n",
      " 2   EngineVersion                       100000 non-null  object \n",
      " 3   AppVersion                          100000 non-null  object \n",
      " 4   SignatureVersion                    100000 non-null  object \n",
      " 5   IsBetaUser                          100000 non-null  int64  \n",
      " 6   RealTimeProtectionState             99934 non-null   float64\n",
      " 7   IsPassiveModeEnabled                100000 non-null  int64  \n",
      " 8   AntivirusConfigID                   99924 non-null   float64\n",
      " 9   NumAntivirusProductsInstalled       99924 non-null   float64\n",
      " 10  NumAntivirusProductsEnabled         99924 non-null   float64\n",
      " 11  HasTpm                              100000 non-null  int64  \n",
      " 12  CountryID                           100000 non-null  int64  \n",
      " 13  CityID                              99377 non-null   float64\n",
      " 14  GeoRegionID                         100000 non-null  float64\n",
      " 15  LocaleEnglishNameID                 100000 non-null  int64  \n",
      " 16  PlatformType                        100000 non-null  object \n",
      " 17  Processor                           100000 non-null  object \n",
      " 18  OSVersion                           100000 non-null  object \n",
      " 19  OSBuildNumber                       100000 non-null  int64  \n",
      " 20  OSProductSuite                      100000 non-null  int64  \n",
      " 21  OsPlatformSubRelease                100000 non-null  object \n",
      " 22  OSBuildLab                          100000 non-null  object \n",
      " 23  SKUEditionName                      100000 non-null  object \n",
      " 24  IsSystemProtected                   99924 non-null   float64\n",
      " 25  AutoSampleSubmissionEnabled         100000 non-null  int64  \n",
      " 26  SMode                               99019 non-null   float64\n",
      " 27  IEVersionID                         99893 non-null   float64\n",
      " 28  FirewallEnabled                     99834 non-null   float64\n",
      " 29  EnableLUA                           99981 non-null   float64\n",
      " 30  MDC2FormFactor                      100000 non-null  object \n",
      " 31  DeviceFamily                        100000 non-null  object \n",
      " 32  OEMNameID                           99788 non-null   float64\n",
      " 33  OEMModelID                          99772 non-null   float64\n",
      " 34  ProcessorCoreCount                  99915 non-null   float64\n",
      " 35  ProcessorManufacturerID             99915 non-null   float64\n",
      " 36  ProcessorModelID                    99915 non-null   float64\n",
      " 37  PrimaryDiskCapacityMB               99890 non-null   float64\n",
      " 38  PrimaryDiskType                     99977 non-null   object \n",
      " 39  SystemVolumeCapacityMB              99890 non-null   float64\n",
      " 40  HasOpticalDiskDrive                 100000 non-null  int64  \n",
      " 41  TotalPhysicalRAMMB                  99849 non-null   float64\n",
      " 42  ChassisType                         99998 non-null   object \n",
      " 43  PrimaryDisplayDiagonalInches        99928 non-null   float64\n",
      " 44  PrimaryDisplayResolutionHorizontal  99928 non-null   float64\n",
      " 45  PrimaryDisplayResolutionVertical    99928 non-null   float64\n",
      " 46  PowerPlatformRole                   100000 non-null  object \n",
      " 47  InternalBatteryNumberOfCharges      99485 non-null   float64\n",
      " 48  NumericOSVersion                    100000 non-null  object \n",
      " 49  OSArchitecture                      100000 non-null  object \n",
      " 50  OSBranch                            100000 non-null  object \n",
      " 51  OSBuildNumberOnly                   100000 non-null  int64  \n",
      " 52  OSBuildRevisionOnly                 100000 non-null  int64  \n",
      " 53  OSEdition                           100000 non-null  object \n",
      " 54  OSSkuFriendlyName                   100000 non-null  object \n",
      " 55  OSInstallType                       100000 non-null  object \n",
      " 56  OSInstallLanguageID                 99887 non-null   float64\n",
      " 57  OSUILocaleID                        100000 non-null  int64  \n",
      " 58  AutoUpdateOptionsName               100000 non-null  object \n",
      " 59  IsPortableOS                        100000 non-null  int64  \n",
      " 60  OSGenuineState                      100000 non-null  object \n",
      " 61  LicenseActivationChannel            100000 non-null  object \n",
      " 62  IsFlightsDisabled                   99674 non-null   float64\n",
      " 63  FlightRing                          100000 non-null  object \n",
      " 64  FirmwareManufacturerID              99624 non-null   float64\n",
      " 65  FirmwareVersionID                   99666 non-null   float64\n",
      " 66  IsSecureBootEnabled                 100000 non-null  int64  \n",
      " 67  IsVirtualDevice                     99980 non-null   float64\n",
      " 68  IsTouchEnabled                      100000 non-null  int64  \n",
      " 69  IsPenCapable                        100000 non-null  int64  \n",
      " 70  IsAlwaysOnAlwaysConnectedCapable    99866 non-null   float64\n",
      " 71  IsGamer                             99441 non-null   float64\n",
      " 72  RegionIdentifier                    99441 non-null   float64\n",
      " 73  DateAS                              100000 non-null  object \n",
      " 74  DateOS                              99976 non-null   object \n",
      " 75  target                              100000 non-null  int64  \n",
      "dtypes: float64(31), int64(17), object(28)\n",
      "memory usage: 58.0+ MB\n"
     ]
    }
   ],
   "source": [
    "print(\"\\ntrain_threat_data Info:\")\n",
    "train_threat_data.info()"
   ]
  },
  {
   "cell_type": "markdown",
   "id": "238c42e7",
   "metadata": {
    "papermill": {
     "duration": 0.012632,
     "end_time": "2025-03-30T05:26:38.077981",
     "exception": false,
     "start_time": "2025-03-30T05:26:38.065349",
     "status": "completed"
    },
    "tags": []
   },
   "source": [
    "<div style=\"border: 2px solid black; padding: 10px;\"> <h5 style= \"color:black; text-align:center;\">Check for missing values</h5></div>"
   ]
  },
  {
   "cell_type": "code",
   "execution_count": 8,
   "id": "6dff53e8",
   "metadata": {
    "execution": {
     "iopub.execute_input": "2025-03-30T05:26:38.102835Z",
     "iopub.status.busy": "2025-03-30T05:26:38.102464Z",
     "iopub.status.idle": "2025-03-30T05:26:38.285194Z",
     "shell.execute_reply": "2025-03-30T05:26:38.284101Z"
    },
    "papermill": {
     "duration": 0.198268,
     "end_time": "2025-03-30T05:26:38.287495",
     "exception": false,
     "start_time": "2025-03-30T05:26:38.089227",
     "status": "completed"
    },
    "tags": []
   },
   "outputs": [
    {
     "name": "stdout",
     "output_type": "stream",
     "text": [
      "\n",
      "Missing Values:\n",
      "MachineID             0\n",
      "ProductName           0\n",
      "EngineVersion         0\n",
      "AppVersion            0\n",
      "SignatureVersion      0\n",
      "                   ... \n",
      "IsGamer             559\n",
      "RegionIdentifier    559\n",
      "DateAS                0\n",
      "DateOS               24\n",
      "target                0\n",
      "Length: 76, dtype: int64\n"
     ]
    }
   ],
   "source": [
    "print(\"\\nMissing Values:\")\n",
    "print(train_threat_data.isnull().sum())"
   ]
  },
  {
   "cell_type": "markdown",
   "id": "1a0ef912",
   "metadata": {
    "papermill": {
     "duration": 0.011063,
     "end_time": "2025-03-30T05:26:38.309609",
     "exception": false,
     "start_time": "2025-03-30T05:26:38.298546",
     "status": "completed"
    },
    "tags": []
   },
   "source": [
    "<div style=\"border: 2px solid black; padding: 10px;\"> <h5 style= \"color:black; text-align:center;\">Univariate Analysis</h5></div>"
   ]
  },
  {
   "cell_type": "code",
   "execution_count": 9,
   "id": "464603ee",
   "metadata": {
    "execution": {
     "iopub.execute_input": "2025-03-30T05:26:38.342373Z",
     "iopub.status.busy": "2025-03-30T05:26:38.341782Z",
     "iopub.status.idle": "2025-03-30T05:26:40.054080Z",
     "shell.execute_reply": "2025-03-30T05:26:40.052709Z"
    },
    "papermill": {
     "duration": 1.728386,
     "end_time": "2025-03-30T05:26:40.056233",
     "exception": false,
     "start_time": "2025-03-30T05:26:38.327847",
     "status": "completed"
    },
    "tags": []
   },
   "outputs": [
    {
     "name": "stderr",
     "output_type": "stream",
     "text": [
      "/usr/local/lib/python3.10/dist-packages/seaborn/_oldcore.py:1119: FutureWarning: use_inf_as_na option is deprecated and will be removed in a future version. Convert inf values to NaN before operating instead.\n",
      "  with pd.option_context('mode.use_inf_as_na', True):\n",
      "/usr/local/lib/python3.10/dist-packages/seaborn/_oldcore.py:1119: FutureWarning: use_inf_as_na option is deprecated and will be removed in a future version. Convert inf values to NaN before operating instead.\n",
      "  with pd.option_context('mode.use_inf_as_na', True):\n",
      "/usr/local/lib/python3.10/dist-packages/seaborn/_oldcore.py:1119: FutureWarning: use_inf_as_na option is deprecated and will be removed in a future version. Convert inf values to NaN before operating instead.\n",
      "  with pd.option_context('mode.use_inf_as_na', True):\n",
      "/usr/local/lib/python3.10/dist-packages/seaborn/_oldcore.py:1119: FutureWarning: use_inf_as_na option is deprecated and will be removed in a future version. Convert inf values to NaN before operating instead.\n",
      "  with pd.option_context('mode.use_inf_as_na', True):\n"
     ]
    },
    {
     "data": {
      "image/png": "[encoded data removed]",
      "text/plain": [
       "<Figure size 1000x600 with 4 Axes>"
      ]
     },
     "metadata": {},
     "output_type": "display_data"
    }
   ],
   "source": [
    "# Define the columns to plot\n",
    "columns_to_plot = ['IsBetaUser', 'AutoSampleSubmissionEnabled', 'IsFlightsDisabled', 'target']\n",
    "\n",
    "# Set up the figure with 2 columns\n",
    "fig, axes = plt.subplots(nrows=2, ncols=2, figsize=(10, 6))\n",
    "fig.subplots_adjust(hspace=0.5, wspace=0.3)\n",
    "\n",
    "# Flatten axes for easy iteration\n",
    "axes = axes.flatten()\n",
    "\n",
    "for i, column in enumerate(columns_to_plot):\n",
    "    sns.histplot(train_threat_data[column], kde=True, bins=30, ax=axes[i])\n",
    "    axes[i].set_title(f'Distribution of {column}')\n",
    "\n",
    "plt.show()\n"
   ]
  },
  {
   "cell_type": "markdown",
   "id": "c6f748cd",
   "metadata": {
    "papermill": {
     "duration": 0.012779,
     "end_time": "2025-03-30T05:26:40.082482",
     "exception": false,
     "start_time": "2025-03-30T05:26:40.069703",
     "status": "completed"
    },
    "tags": []
   },
   "source": [
    "<div style=\"border: 2px solid black; padding: 10px;\"> <h5 style= \"color:black; text-align:center;\">Count Plot for Categorical Features</h5></div>"
   ]
  },
  {
   "cell_type": "code",
   "execution_count": 10,
   "id": "1ea2421f",
   "metadata": {
    "execution": {
     "iopub.execute_input": "2025-03-30T05:26:40.110651Z",
     "iopub.status.busy": "2025-03-30T05:26:40.110179Z",
     "iopub.status.idle": "2025-03-30T05:26:41.026806Z",
     "shell.execute_reply": "2025-03-30T05:26:41.025452Z"
    },
    "papermill": {
     "duration": 0.933749,
     "end_time": "2025-03-30T05:26:41.029580",
     "exception": false,
     "start_time": "2025-03-30T05:26:40.095831",
     "status": "completed"
    },
    "tags": []
   },
   "outputs": [
    {
     "data": {
      "image/png": "[encoded data removed]",
      "text/plain": [
       "<Figure size 1200x800 with 4 Axes>"
      ]
     },
     "metadata": {},
     "output_type": "display_data"
    }
   ],
   "source": [
    "# Define the categorical columns to plot\n",
    "cat_columns_to_plot = ['SignatureVersion', 'ProductName', 'DateAS', 'SKUEditionName']\n",
    "\n",
    "# Set up the figure with 2 columns for categorical data\n",
    "fig, axes = plt.subplots(nrows=2, ncols=2, figsize=(12, 8))\n",
    "fig.subplots_adjust(hspace=1.0, wspace=0.9)  # Increased spacing to prevent overlap\n",
    "\n",
    "# Flatten axes for easy iteration\n",
    "axes = axes.flatten()\n",
    "\n",
    "for i, column in enumerate(cat_columns_to_plot):\n",
    "    top_categories = train_threat_data[column].value_counts().index[:10]  # Limit to top 10 categories\n",
    "    sns.countplot(x=column, data=train_threat_data, order=top_categories, ax=axes[i])\n",
    "    axes[i].set_title(f'Count Plot of {column}')\n",
    "    axes[i].tick_params(axis='x', rotation=45)\n",
    "\n",
    "plt.show()"
   ]
  },
  {
   "cell_type": "markdown",
   "id": "500ee105",
   "metadata": {
    "papermill": {
     "duration": 0.01479,
     "end_time": "2025-03-30T05:26:41.059230",
     "exception": false,
     "start_time": "2025-03-30T05:26:41.044440",
     "status": "completed"
    },
    "tags": []
   },
   "source": [
    "<div style=\"border: 2px solid black; padding: 10px;\"> <h5 style= \"color:black; text-align:center;\">Whisker Plot for all features</h5></div>"
   ]
  },
  {
   "cell_type": "code",
   "execution_count": 11,
   "id": "6192d782",
   "metadata": {
    "execution": {
     "iopub.execute_input": "2025-03-30T05:26:41.091479Z",
     "iopub.status.busy": "2025-03-30T05:26:41.091098Z",
     "iopub.status.idle": "2025-03-30T05:26:41.647076Z",
     "shell.execute_reply": "2025-03-30T05:26:41.645947Z"
    },
    "papermill": {
     "duration": 0.574917,
     "end_time": "2025-03-30T05:26:41.649216",
     "exception": false,
     "start_time": "2025-03-30T05:26:41.074299",
     "status": "completed"
    },
    "tags": []
   },
   "outputs": [
    {
     "data": {
      "image/png": "[encoded data removed]",
      "text/plain": [
       "<Figure size 1200x800 with 4 Axes>"
      ]
     },
     "metadata": {},
     "output_type": "display_data"
    }
   ],
   "source": [
    "numerical_features = train_threat_data.select_dtypes(include=['number']).columns.tolist()\n",
    "num_columns_to_plot = ['IsBetaUser', 'AutoSampleSubmissionEnabled','ProcessorCoreCount','target']\n",
    "\n",
    "# Create a single figure with subplots for all features\n",
    "fig, axes = plt.subplots(nrows=2, ncols=2, figsize=(12, 8))\n",
    "fig.subplots_adjust(hspace=0.5, wspace=0.3)\n",
    "\n",
    "axes = axes.flatten()\n",
    "\n",
    "for i, feature in enumerate(num_columns_to_plot):\n",
    "    sns.boxplot(y=train_threat_data[feature], ax=axes[i], palette='Set2')\n",
    "    axes[i].set_title(f'Whisker Plot for {feature}')\n",
    "    axes[i].set_ylabel('Value Range')\n",
    "    axes[i].grid(True)\n",
    "\n",
    "plt.show()"
   ]
  },
  {
   "cell_type": "markdown",
   "id": "531d2197",
   "metadata": {
    "papermill": {
     "duration": 0.014964,
     "end_time": "2025-03-30T05:26:41.679638",
     "exception": false,
     "start_time": "2025-03-30T05:26:41.664674",
     "status": "completed"
    },
    "tags": []
   },
   "source": [
    "<div style=\"border: 2px solid black; padding: 10px;\"> <h5 style= \"color:black; text-align:center;\">Finding Low Variance Features, Skweness of Features, Outliers in Dataset and Highly Correlated Features</h5></div>"
   ]
  },
  {
   "cell_type": "code",
   "execution_count": 12,
   "id": "21c3b8f8",
   "metadata": {
    "execution": {
     "iopub.execute_input": "2025-03-30T05:26:41.711565Z",
     "iopub.status.busy": "2025-03-30T05:26:41.711176Z",
     "iopub.status.idle": "2025-03-30T05:26:42.741987Z",
     "shell.execute_reply": "2025-03-30T05:26:42.740377Z"
    },
    "papermill": {
     "duration": 1.048914,
     "end_time": "2025-03-30T05:26:42.743836",
     "exception": false,
     "start_time": "2025-03-30T05:26:41.694922",
     "status": "completed"
    },
    "tags": []
   },
   "outputs": [
    {
     "name": "stderr",
     "output_type": "stream",
     "text": [
      "/usr/local/lib/python3.10/dist-packages/pandas/core/computation/expressions.py:73: RuntimeWarning: invalid value encountered in less\n",
      "  return op(a, b)\n",
      "/usr/local/lib/python3.10/dist-packages/pandas/core/computation/expressions.py:73: RuntimeWarning: invalid value encountered in greater\n",
      "  return op(a, b)\n"
     ]
    },
    {
     "name": "stdout",
     "output_type": "stream",
     "text": [
      "\n",
      " Low Variance Features (Consider Removing):\n",
      "IsBetaUser, HasTpm, AutoSampleSubmissionEnabled, SMode, IsPortableOS, IsFlightsDisabled, IsVirtualDevice\n",
      "\n",
      " Highly Skewed Features (Consider Transformation):\n",
      "RealTimeProtectionState, IsPassiveModeEnabled, AntivirusConfigID, NumAntivirusProductsEnabled, HasTpm, OSBuildNumber, IsSystemProtected, SMode, IEVersionID, FirewallEnabled, EnableLUA, ProcessorCoreCount, ProcessorManufacturerID, HasOpticalDiskDrive, TotalPhysicalRAMMB, PrimaryDisplayDiagonalInches, PrimaryDisplayResolutionHorizontal, PrimaryDisplayResolutionVertical, OSBuildNumberOnly, OSBuildRevisionOnly, IsPortableOS, IsVirtualDevice, IsTouchEnabled, IsPenCapable, IsAlwaysOnAlwaysConnectedCapable\n",
      "\n",
      " Features with Outliers (Consider Scaling or Removing Extreme Values):\n",
      "RealTimeProtectionState, IsPassiveModeEnabled, AntivirusConfigID, NumAntivirusProductsInstalled, NumAntivirusProductsEnabled, HasTpm, OSBuildNumber, IsSystemProtected, SMode, IEVersionID, FirewallEnabled, EnableLUA, OEMNameID, OEMModelID, ProcessorCoreCount, ProcessorManufacturerID, ProcessorModelID, PrimaryDiskCapacityMB, SystemVolumeCapacityMB, HasOpticalDiskDrive, TotalPhysicalRAMMB, PrimaryDisplayDiagonalInches, PrimaryDisplayResolutionHorizontal, PrimaryDisplayResolutionVertical, OSBuildNumberOnly, OSBuildRevisionOnly, OSInstallLanguageID, OSUILocaleID, IsPortableOS, IsVirtualDevice, IsTouchEnabled, IsPenCapable, IsAlwaysOnAlwaysConnectedCapable\n",
      "\n",
      " Highly Correlated Feature Pairs (Consider Removing One of Each):\n",
      "- IsPassiveModeEnabled & RealTimeProtectionState (Correlation: 0.90)\n",
      "- PrimaryDisplayResolutionVertical & PrimaryDisplayResolutionHorizontal (Correlation: 0.90)\n",
      "- OSBuildNumberOnly & OSBuildNumber (Correlation: 0.95)\n",
      "- OSUILocaleID & OSInstallLanguageID (Correlation: 0.99)\n",
      "\n"
     ]
    }
   ],
   "source": [
    "df = train_threat_data.copy()\n",
    "\n",
    "# Identify numeric columns\n",
    "numeric_cols = df.select_dtypes(include=[np.number]).columns\n",
    "\n",
    "# Compute variance for numerical columns\n",
    "variance = df[numeric_cols].var()\n",
    "low_variance_cols = variance[variance < 0.01].index  # Threshold: 0.01\n",
    "\n",
    "# Compute skewness\n",
    "skewness = df[numeric_cols].skew()\n",
    "highly_skewed_cols = skewness[abs(skewness) > 2].index  # Threshold: ±2\n",
    "\n",
    "# Outlier detection using IQR\n",
    "Q1 = df[numeric_cols].quantile(0.25)\n",
    "Q3 = df[numeric_cols].quantile(0.75)\n",
    "IQR = Q3 - Q1\n",
    "outliers = ((df[numeric_cols] < (Q1 - 1.5 * IQR)) | (df[numeric_cols] > (Q3 + 1.5 * IQR))).sum()\n",
    "outlier_cols = outliers[outliers > 0].index  # Columns with outliers\n",
    "\n",
    "# Correlation matrix\n",
    "correlation_matrix = df[numeric_cols].corr().abs()\n",
    "high_correlation_pairs = []\n",
    "threshold = 0.85  # High correlation threshold\n",
    "\n",
    "for i in range(len(correlation_matrix.columns)):\n",
    "    for j in range(i):\n",
    "        if correlation_matrix.iloc[i, j] > threshold:\n",
    "            col1 = correlation_matrix.columns[i]\n",
    "            col2 = correlation_matrix.columns[j]\n",
    "            high_correlation_pairs.append((col1, col2, correlation_matrix.iloc[i, j]))\n",
    "report = \"\"\n",
    "\n",
    "# Low Variance Features\n",
    "report += \"\\n Low Variance Features (Consider Removing):\\n\"\n",
    "report += \", \".join(low_variance_cols) if len(low_variance_cols) > 0 else \"None\"\n",
    "\n",
    "# Highly Skewed Features\n",
    "report += \"\\n\\n Highly Skewed Features (Consider Transformation):\\n\"\n",
    "report += \", \".join(highly_skewed_cols) if len(highly_skewed_cols) > 0 else \"None\"\n",
    "\n",
    "# Outliers\n",
    "report += \"\\n\\n Features with Outliers (Consider Scaling or Removing Extreme Values):\\n\"\n",
    "report += \", \".join(outlier_cols) if len(outlier_cols) > 0 else \"None\"\n",
    "\n",
    "# Correlation Report\n",
    "report += \"\\n\\n Highly Correlated Feature Pairs (Consider Removing One of Each):\\n\"\n",
    "if len(high_correlation_pairs) > 0:\n",
    "    for col1, col2, corr_value in high_correlation_pairs:\n",
    "        report += f\"- {col1} & {col2} (Correlation: {corr_value:.2f})\\n\"\n",
    "else:\n",
    "    report += \"None\"\n",
    "\n",
    "# Print Report\n",
    "print(report)"
   ]
  },
  {
   "cell_type": "markdown",
   "id": "ce53b199",
   "metadata": {
    "papermill": {
     "duration": 0.01868,
     "end_time": "2025-03-30T05:26:42.778827",
     "exception": false,
     "start_time": "2025-03-30T05:26:42.760147",
     "status": "completed"
    },
    "tags": []
   },
   "source": [
    "<div style=\"border: 2px solid black; padding: 10px;\"> <h5 style= \"color:black; text-align:center;\">Exploratory Dataset Analysis Reportr</h5></div>\n",
    "\n",
    "## Next Steps:\n",
    "1. Remove low-variance features if deemed unnecessary.\n",
    "2. Normalize highly skewed features to improve model performance.\n",
    "3. Address outliers using robust scaling techniques.\n",
    "4. Reduce multicollinearity by removing or transforming correlated features.\n",
    "5. Validate preprocessing choices through iterative modeling experiments."
   ]
  },
  {
   "cell_type": "markdown",
   "id": "3e8b14ad",
   "metadata": {
    "papermill": {
     "duration": 0.017524,
     "end_time": "2025-03-30T05:26:42.813100",
     "exception": false,
     "start_time": "2025-03-30T05:26:42.795576",
     "status": "completed"
    },
    "tags": []
   },
   "source": [
    "<div style=\"border: 2px solid black; padding: 10px;\"> <h4 style= \"color:black; text-align:center;\">Preprocessing and Pipelining</h4></div>"
   ]
  },
  {
   "cell_type": "markdown",
   "id": "1510aacb",
   "metadata": {
    "papermill": {
     "duration": 0.016774,
     "end_time": "2025-03-30T05:26:42.847700",
     "exception": false,
     "start_time": "2025-03-30T05:26:42.830926",
     "status": "completed"
    },
    "tags": []
   },
   "source": [
    "<div style=\"border: 2px solid black; padding: 10px;\"> <h5 style= \"color:black; text-align:center;\">Remove Low Variance Features</h5></div>\n",
    "During experimentation, it was found that removing all low-variance features negatively impacted the trained model's accuracy. As a result, only these specific features were removed while retaining other low-variance features to ensure better model performance."
   ]
  },
  {
   "cell_type": "code",
   "execution_count": 13,
   "id": "caa9b670",
   "metadata": {
    "execution": {
     "iopub.execute_input": "2025-03-30T05:26:42.882185Z",
     "iopub.status.busy": "2025-03-30T05:26:42.881833Z",
     "iopub.status.idle": "2025-03-30T05:26:42.915468Z",
     "shell.execute_reply": "2025-03-30T05:26:42.914341Z"
    },
    "papermill": {
     "duration": 0.053273,
     "end_time": "2025-03-30T05:26:42.917683",
     "exception": false,
     "start_time": "2025-03-30T05:26:42.864410",
     "status": "completed"
    },
    "tags": []
   },
   "outputs": [],
   "source": [
    "# Remove Low Variance Features\n",
    "low_variance_features = ['IsBetaUser', 'AutoSampleSubmissionEnabled', 'IsFlightsDisabled']\n",
    "train_threat_data.drop(columns=low_variance_features, inplace=True, errors='ignore')"
   ]
  },
  {
   "cell_type": "markdown",
   "id": "817d280e",
   "metadata": {
    "papermill": {
     "duration": 0.015314,
     "end_time": "2025-03-30T05:26:42.949042",
     "exception": false,
     "start_time": "2025-03-30T05:26:42.933728",
     "status": "completed"
    },
    "tags": []
   },
   "source": [
    "<div style=\"border: 2px solid black; padding: 10px;\"> <h5 style= \"color:black; text-align:center;\">Handle Highly Skewed Features</h5></div>\n",
    "\n",
    "**Loss of interpretability:** Log transformation changed the feature distribution in a way that made feature importance harder to analyze.\n",
    "\n",
    "**Model accuracy dropped:** Some machine learning models (especially tree-based models) inherently handle skewed data well. Applying transformations led to a decrease in predictive performance.\n",
    "\n",
    "**Feature value compression:** Log transformation reduced variability in certain features, making it harder for the model to differentiate between important data points."
   ]
  },
  {
   "cell_type": "code",
   "execution_count": 14,
   "id": "36aac563",
   "metadata": {
    "execution": {
     "iopub.execute_input": "2025-03-30T05:26:42.981909Z",
     "iopub.status.busy": "2025-03-30T05:26:42.981557Z",
     "iopub.status.idle": "2025-03-30T05:26:42.987964Z",
     "shell.execute_reply": "2025-03-30T05:26:42.986811Z"
    },
    "papermill": {
     "duration": 0.024788,
     "end_time": "2025-03-30T05:26:42.989628",
     "exception": false,
     "start_time": "2025-03-30T05:26:42.964840",
     "status": "completed"
    },
    "tags": []
   },
   "outputs": [
    {
     "data": {
      "text/plain": [
       "'# Handle Highly Skewed Features\\nskewed_features = [\\n    \"RealTimeProtectionState\", \"IsPassiveModeEnabled\", \"AntivirusConfigID\", \\n    \"NumAntivirusProductsEnabled\", \"TotalPhysicalRAMMB\", \"PrimaryDisplayDiagonalInches\", \\n    \"PrimaryDisplayResolutionHorizontal\", \"PrimaryDisplayResolutionVertical\"\\n]\\n\\n# Apply log transformation where applicable\\nfor col in skewed_features:\\n    if col in train_threat_data.columns and train_threat_data[col].min() > 0:  # Ensure no negative values\\n        train_threat_data[col] = np.log1p(train_threat_data[col])  # log1p handles zero values better'"
      ]
     },
     "execution_count": 14,
     "metadata": {},
     "output_type": "execute_result"
    }
   ],
   "source": [
    "'''# Handle Highly Skewed Features\n",
    "skewed_features = [\n",
    "    \"RealTimeProtectionState\", \"IsPassiveModeEnabled\", \"AntivirusConfigID\", \n",
    "    \"NumAntivirusProductsEnabled\", \"TotalPhysicalRAMMB\", \"PrimaryDisplayDiagonalInches\", \n",
    "    \"PrimaryDisplayResolutionHorizontal\", \"PrimaryDisplayResolutionVertical\"\n",
    "]\n",
    "\n",
    "# Apply log transformation where applicable\n",
    "for col in skewed_features:\n",
    "    if col in train_threat_data.columns and train_threat_data[col].min() > 0:  # Ensure no negative values\n",
    "        train_threat_data[col] = np.log1p(train_threat_data[col])  # log1p handles zero values better'''"
   ]
  },
  {
   "cell_type": "markdown",
   "id": "e90969c2",
   "metadata": {
    "papermill": {
     "duration": 0.015949,
     "end_time": "2025-03-30T05:26:43.022049",
     "exception": false,
     "start_time": "2025-03-30T05:26:43.006100",
     "status": "completed"
    },
    "tags": []
   },
   "source": [
    "<div style=\"border: 2px solid black; padding: 10px;\"> <h5 style= \"color:black; text-align:center;\">Handle Outliers</h5></div>\n",
    "**Loss of important information:** Some outliers contained critical distinguishing information that contributed to model accuracy.\n",
    "\n",
    "**Overcorrection of variance:** Clipping extreme values led to a less diverse dataset, reducing the model's ability to generalize.\n",
    "\n",
    "**Accuracy reduction:** After removing or scaling outliers, validation performance declined, suggesting that the extreme values were actually useful for prediction."
   ]
  },
  {
   "cell_type": "code",
   "execution_count": 15,
   "id": "801f1a9c",
   "metadata": {
    "execution": {
     "iopub.execute_input": "2025-03-30T05:26:43.055282Z",
     "iopub.status.busy": "2025-03-30T05:26:43.054928Z",
     "iopub.status.idle": "2025-03-30T05:26:43.061382Z",
     "shell.execute_reply": "2025-03-30T05:26:43.060067Z"
    },
    "papermill": {
     "duration": 0.025057,
     "end_time": "2025-03-30T05:26:43.063283",
     "exception": false,
     "start_time": "2025-03-30T05:26:43.038226",
     "status": "completed"
    },
    "tags": []
   },
   "outputs": [
    {
     "data": {
      "text/plain": [
       "'# Handle Outliers\\noutlier_features = [\\n    \"RealTimeProtectionState\", \"OSBuildNumber\", \"ProcessorCoreCount\", \\n    \"PrimaryDiskCapacityMB\", \"SystemVolumeCapacityMB\", \"TotalPhysicalRAMMB\"\\n]\\n\\n# Use robust scaling to minimize the effect of outliers\\nscaler = RobustScaler()\\ntrain_threat_data[outlier_features] = scaler.fit_transform(train_threat_data[outlier_features])\\n\\n# Optionally, clip extreme outliers at 1st and 99th percentile\\nfor col in outlier_features:\\n    lower_bound, upper_bound = np.percentile(train_threat_data[col], [1, 99])\\n    train_threat_data[col] = np.clip(train_threat_data[col], lower_bound, upper_bound)'"
      ]
     },
     "execution_count": 15,
     "metadata": {},
     "output_type": "execute_result"
    }
   ],
   "source": [
    "'''# Handle Outliers\n",
    "outlier_features = [\n",
    "    \"RealTimeProtectionState\", \"OSBuildNumber\", \"ProcessorCoreCount\", \n",
    "    \"PrimaryDiskCapacityMB\", \"SystemVolumeCapacityMB\", \"TotalPhysicalRAMMB\"\n",
    "]\n",
    "\n",
    "# Use robust scaling to minimize the effect of outliers\n",
    "scaler = RobustScaler()\n",
    "train_threat_data[outlier_features] = scaler.fit_transform(train_threat_data[outlier_features])\n",
    "\n",
    "# Optionally, clip extreme outliers at 1st and 99th percentile\n",
    "for col in outlier_features:\n",
    "    lower_bound, upper_bound = np.percentile(train_threat_data[col], [1, 99])\n",
    "    train_threat_data[col] = np.clip(train_threat_data[col], lower_bound, upper_bound)'''"
   ]
  },
  {
   "cell_type": "markdown",
   "id": "35545e1b",
   "metadata": {
    "papermill": {
     "duration": 0.016476,
     "end_time": "2025-03-30T05:26:43.096411",
     "exception": false,
     "start_time": "2025-03-30T05:26:43.079935",
     "status": "completed"
    },
    "tags": []
   },
   "source": [
    "<div style=\"border: 2px solid black; padding: 10px;\"> <h5 style= \"color:black; text-align:center;\">Remove Highly Correlated Features</h5></div>\n",
    "\n",
    "**Feature redundancy was beneficial:** Despite high correlation, both features in some pairs provided meaningful insights when used together.\n",
    "\n",
    "**Feature removal lowered accuracy:** Dropping one feature from each pair led to a decrease in model accuracy, indicating that the model relied on subtle differences in the correlated features.\n",
    "\n",
    "Certain features acted as proxies for other patterns in the data, and removing them disrupted the model's predictive power."
   ]
  },
  {
   "cell_type": "code",
   "execution_count": 16,
   "id": "b1556487",
   "metadata": {
    "execution": {
     "iopub.execute_input": "2025-03-30T05:26:43.131063Z",
     "iopub.status.busy": "2025-03-30T05:26:43.130701Z",
     "iopub.status.idle": "2025-03-30T05:26:43.136789Z",
     "shell.execute_reply": "2025-03-30T05:26:43.135632Z"
    },
    "papermill": {
     "duration": 0.025681,
     "end_time": "2025-03-30T05:26:43.138784",
     "exception": false,
     "start_time": "2025-03-30T05:26:43.113103",
     "status": "completed"
    },
    "tags": []
   },
   "outputs": [
    {
     "data": {
      "text/plain": [
       "'# Remove Highly Correlated Features\\ncorrelated_features = {\\n    \"IsPassiveModeEnabled\": \"RealTimeProtectionState\",\\n    \"PrimaryDisplayResolutionVertical\": \"PrimaryDisplayResolutionHorizontal\",\\n    \"OSBuildNumberOnly\": \"OSBuildNumber\",\\n    \"OSUILocaleID\": \"OSInstallLanguageID\"\\n}\\n\\nfor drop_col, keep_col in correlated_features.items():\\n    if drop_col in train_threat_data.columns:\\n        train_threat_data.drop(columns=[drop_col], inplace=True)'"
      ]
     },
     "execution_count": 16,
     "metadata": {},
     "output_type": "execute_result"
    }
   ],
   "source": [
    "'''# Remove Highly Correlated Features\n",
    "correlated_features = {\n",
    "    \"IsPassiveModeEnabled\": \"RealTimeProtectionState\",\n",
    "    \"PrimaryDisplayResolutionVertical\": \"PrimaryDisplayResolutionHorizontal\",\n",
    "    \"OSBuildNumberOnly\": \"OSBuildNumber\",\n",
    "    \"OSUILocaleID\": \"OSInstallLanguageID\"\n",
    "}\n",
    "\n",
    "for drop_col, keep_col in correlated_features.items():\n",
    "    if drop_col in train_threat_data.columns:\n",
    "        train_threat_data.drop(columns=[drop_col], inplace=True)'''"
   ]
  },
  {
   "cell_type": "markdown",
   "id": "07eebe40",
   "metadata": {
    "papermill": {
     "duration": 0.016925,
     "end_time": "2025-03-30T05:26:43.174269",
     "exception": false,
     "start_time": "2025-03-30T05:26:43.157344",
     "status": "completed"
    },
    "tags": []
   },
   "source": [
    "<div style=\"border: 2px solid black; padding: 10px;\"> <h5 style= \"color:black; text-align:center;\">Dropping Duplicate Rows</h5></div>"
   ]
  },
  {
   "cell_type": "code",
   "execution_count": 17,
   "id": "340b3362",
   "metadata": {
    "execution": {
     "iopub.execute_input": "2025-03-30T05:26:43.210268Z",
     "iopub.status.busy": "2025-03-30T05:26:43.209881Z",
     "iopub.status.idle": "2025-03-30T05:26:43.617165Z",
     "shell.execute_reply": "2025-03-30T05:26:43.615749Z"
    },
    "papermill": {
     "duration": 0.428116,
     "end_time": "2025-03-30T05:26:43.619222",
     "exception": false,
     "start_time": "2025-03-30T05:26:43.191106",
     "status": "completed"
    },
    "tags": []
   },
   "outputs": [
    {
     "name": "stdout",
     "output_type": "stream",
     "text": [
      "(99835, 73)\n"
     ]
    }
   ],
   "source": [
    "#Dropping Duplicate Rows\n",
    "train_threat_data.drop_duplicates(inplace=True)\n",
    "print(train_threat_data.shape)"
   ]
  },
  {
   "cell_type": "markdown",
   "id": "f4d94730",
   "metadata": {
    "papermill": {
     "duration": 0.015664,
     "end_time": "2025-03-30T05:26:43.651309",
     "exception": false,
     "start_time": "2025-03-30T05:26:43.635645",
     "status": "completed"
    },
    "tags": []
   },
   "source": [
    "<div style=\"border: 2px solid black; padding: 10px;\"> <h5 style= \"color:black; text-align:center;\">Segregating features and target variable</h5></div>"
   ]
  },
  {
   "cell_type": "code",
   "execution_count": 18,
   "id": "9db8287f",
   "metadata": {
    "execution": {
     "iopub.execute_input": "2025-03-30T05:26:43.684455Z",
     "iopub.status.busy": "2025-03-30T05:26:43.684074Z",
     "iopub.status.idle": "2025-03-30T05:26:43.711783Z",
     "shell.execute_reply": "2025-03-30T05:26:43.710638Z"
    },
    "papermill": {
     "duration": 0.046806,
     "end_time": "2025-03-30T05:26:43.713968",
     "exception": false,
     "start_time": "2025-03-30T05:26:43.667162",
     "status": "completed"
    },
    "tags": []
   },
   "outputs": [],
   "source": [
    "X_data = train_threat_data.drop('target', axis=1)\n",
    "y_data = train_threat_data['target']"
   ]
  },
  {
   "cell_type": "markdown",
   "id": "d6a9810f",
   "metadata": {
    "papermill": {
     "duration": 0.018477,
     "end_time": "2025-03-30T05:26:43.749865",
     "exception": false,
     "start_time": "2025-03-30T05:26:43.731388",
     "status": "completed"
    },
    "tags": []
   },
   "source": [
    "<div style=\"border: 2px solid black; padding: 10px;\"> <h5 style= \"color:black; text-align:center;\">Identifying categorical and non-categorical columns in the feature dataset</h5></div>"
   ]
  },
  {
   "cell_type": "code",
   "execution_count": 19,
   "id": "dd44e9fe",
   "metadata": {
    "execution": {
     "iopub.execute_input": "2025-03-30T05:26:43.786612Z",
     "iopub.status.busy": "2025-03-30T05:26:43.786168Z",
     "iopub.status.idle": "2025-03-30T05:26:43.842184Z",
     "shell.execute_reply": "2025-03-30T05:26:43.840905Z"
    },
    "papermill": {
     "duration": 0.077592,
     "end_time": "2025-03-30T05:26:43.844569",
     "exception": false,
     "start_time": "2025-03-30T05:26:43.766977",
     "status": "completed"
    },
    "tags": []
   },
   "outputs": [],
   "source": [
    "non_categorical_columns = X_data.select_dtypes(include=['number']).columns\n",
    "categorical_columns = X_data.select_dtypes(exclude=['number']).columns"
   ]
  },
  {
   "cell_type": "markdown",
   "id": "dadaa735",
   "metadata": {
    "papermill": {
     "duration": 0.016107,
     "end_time": "2025-03-30T05:26:43.877852",
     "exception": false,
     "start_time": "2025-03-30T05:26:43.861745",
     "status": "completed"
    },
    "tags": []
   },
   "source": [
    "<div style=\"border: 2px solid black; padding: 10px;\"> <h5 style= \"color:black; text-align:center;\">Spliting the feature data into training and testing sets</h5></div>"
   ]
  },
  {
   "cell_type": "code",
   "execution_count": 20,
   "id": "00628c8a",
   "metadata": {
    "execution": {
     "iopub.execute_input": "2025-03-30T05:26:43.912137Z",
     "iopub.status.busy": "2025-03-30T05:26:43.911743Z",
     "iopub.status.idle": "2025-03-30T05:26:44.046920Z",
     "shell.execute_reply": "2025-03-30T05:26:44.045776Z"
    },
    "papermill": {
     "duration": 0.155049,
     "end_time": "2025-03-30T05:26:44.049074",
     "exception": false,
     "start_time": "2025-03-30T05:26:43.894025",
     "status": "completed"
    },
    "tags": []
   },
   "outputs": [],
   "source": [
    "X_train, X_test, y_train, y_test = train_test_split(X_data, y_data, test_size=0.2, random_state=42)"
   ]
  },
  {
   "cell_type": "markdown",
   "id": "4c2bf794",
   "metadata": {
    "papermill": {
     "duration": 0.017153,
     "end_time": "2025-03-30T05:26:44.083275",
     "exception": false,
     "start_time": "2025-03-30T05:26:44.066122",
     "status": "completed"
    },
    "tags": []
   },
   "source": [
    "<div style=\"border: 2px solid black; padding: 10px;\"> <h5 style= \"color:black; text-align:center;\">Defining separate preprocessing steps for numeric and categorical features</h5></div>"
   ]
  },
  {
   "cell_type": "code",
   "execution_count": 21,
   "id": "560d00fd",
   "metadata": {
    "execution": {
     "iopub.execute_input": "2025-03-30T05:26:44.118876Z",
     "iopub.status.busy": "2025-03-30T05:26:44.118475Z",
     "iopub.status.idle": "2025-03-30T05:26:44.124488Z",
     "shell.execute_reply": "2025-03-30T05:26:44.123219Z"
    },
    "papermill": {
     "duration": 0.02628,
     "end_time": "2025-03-30T05:26:44.126654",
     "exception": false,
     "start_time": "2025-03-30T05:26:44.100374",
     "status": "completed"
    },
    "tags": []
   },
   "outputs": [],
   "source": [
    "numerical_transformation = Pipeline(steps=[\n",
    "    ('simple imputer', SimpleImputer(strategy='mean')),\n",
    "    ('standard scaler', StandardScaler())\n",
    "])\n",
    "categorical_transformation = Pipeline(steps=[\n",
    "    ('simple imputer', SimpleImputer(strategy='constant', fill_value = 'missing')),\n",
    "    ('onehot encoder', OneHotEncoder(handle_unknown='ignore'))\n",
    "])\n",
    "preprocessor = ColumnTransformer(\n",
    "    transformers=[\n",
    "        ('numerical', numerical_transformation, non_categorical_columns),\n",
    "        ('categorical', categorical_transformation, categorical_columns)\n",
    "    ]\n",
    ")"
   ]
  },
  {
   "cell_type": "markdown",
   "id": "6976624d",
   "metadata": {
    "papermill": {
     "duration": 0.01709,
     "end_time": "2025-03-30T05:26:44.161539",
     "exception": false,
     "start_time": "2025-03-30T05:26:44.144449",
     "status": "completed"
    },
    "tags": []
   },
   "source": [
    "<div style=\"border: 2px solid black; padding: 10px;\"> <h4 style= \"color:black; text-align:center;\">Model Traning and scoring</h4></div>"
   ]
  },
  {
   "cell_type": "markdown",
   "id": "d1d680d9",
   "metadata": {
    "papermill": {
     "duration": 0.016501,
     "end_time": "2025-03-30T05:26:44.195414",
     "exception": false,
     "start_time": "2025-03-30T05:26:44.178913",
     "status": "completed"
    },
    "tags": []
   },
   "source": [
    "<div style=\"border: 2px solid black; padding: 10px;\"> <h5 style= \"color:black; text-align:center;\">Hyper-paramters</h5></div>"
   ]
  },
  {
   "cell_type": "code",
   "execution_count": 22,
   "id": "540ee03f",
   "metadata": {
    "execution": {
     "iopub.execute_input": "2025-03-30T05:26:44.231768Z",
     "iopub.status.busy": "2025-03-30T05:26:44.231249Z",
     "iopub.status.idle": "2025-03-30T05:26:44.236269Z",
     "shell.execute_reply": "2025-03-30T05:26:44.235181Z"
    },
    "papermill": {
     "duration": 0.025838,
     "end_time": "2025-03-30T05:26:44.238086",
     "exception": false,
     "start_time": "2025-03-30T05:26:44.212248",
     "status": "completed"
    },
    "tags": []
   },
   "outputs": [],
   "source": [
    "parameter_range = [2,3,4]\n",
    "parameter_range_fl = [0.1,0.2,0.3]\n",
    "n_estimators = [100,1000,1500]\n",
    "learning_rates = [1,2]"
   ]
  },
  {
   "cell_type": "markdown",
   "id": "c34d708a",
   "metadata": {
    "papermill": {
     "duration": 0.016436,
     "end_time": "2025-03-30T05:26:44.271887",
     "exception": false,
     "start_time": "2025-03-30T05:26:44.255451",
     "status": "completed"
    },
    "tags": []
   },
   "source": [
    "<div style=\"border: 2px solid black; padding: 10px;\"> <h5 style= \"color:black; text-align:center;\">Decision Tree Classifier</h5></div>"
   ]
  },
  {
   "cell_type": "code",
   "execution_count": 23,
   "id": "556e96e0",
   "metadata": {
    "execution": {
     "iopub.execute_input": "2025-03-30T05:26:44.306478Z",
     "iopub.status.busy": "2025-03-30T05:26:44.306085Z",
     "iopub.status.idle": "2025-03-30T05:26:44.312070Z",
     "shell.execute_reply": "2025-03-30T05:26:44.310837Z"
    },
    "papermill": {
     "duration": 0.025544,
     "end_time": "2025-03-30T05:26:44.314047",
     "exception": false,
     "start_time": "2025-03-30T05:26:44.288503",
     "status": "completed"
    },
    "tags": []
   },
   "outputs": [],
   "source": [
    "pipeline_decision_tree_classifier = Pipeline([\n",
    "    ('preprocessor', preprocessor),\n",
    "    ('feature_selection', SelectKBest(f_classif, k='all')),\n",
    "    ('decision_tree_classifier', DecisionTreeClassifier(random_state = 42, max_depth= 20, min_samples_leaf= 1,min_samples_split= 2 ))\n",
    "])\n",
    "\n",
    "decision_tree_parameter_grid = [{'decision_tree_classifier__criterion': ['log_loss', 'entropy'],\n",
    "                   'decision_tree_classifier__min_samples_leaf': parameter_range,\n",
    "                   'decision_tree_classifier__max_depth': [6,7,8,9,10],\n",
    "                   'decision_tree_classifier__min_samples_split': parameter_range[1:]}]\n",
    "\n",
    "decision_tree_grid_search = GridSearchCV(estimator=pipeline_decision_tree_classifier,\n",
    "        param_grid=decision_tree_parameter_grid,\n",
    "        scoring='accuracy',\n",
    "        cv=3, n_jobs=4)"
   ]
  },
  {
   "cell_type": "markdown",
   "id": "fbce5ecb",
   "metadata": {
    "papermill": {
     "duration": 0.016887,
     "end_time": "2025-03-30T05:26:44.348251",
     "exception": false,
     "start_time": "2025-03-30T05:26:44.331364",
     "status": "completed"
    },
    "tags": []
   },
   "source": [
    "<div style=\"border: 2px solid black; padding: 10px;\"> <h5 style= \"color:black; text-align:center;\">Logistic Regression Classifier</h5></div>"
   ]
  },
  {
   "cell_type": "code",
   "execution_count": 24,
   "id": "ac1fbb2c",
   "metadata": {
    "execution": {
     "iopub.execute_input": "2025-03-30T05:26:44.384247Z",
     "iopub.status.busy": "2025-03-30T05:26:44.383911Z",
     "iopub.status.idle": "2025-03-30T05:26:44.389358Z",
     "shell.execute_reply": "2025-03-30T05:26:44.388397Z"
    },
    "papermill": {
     "duration": 0.025707,
     "end_time": "2025-03-30T05:26:44.391168",
     "exception": false,
     "start_time": "2025-03-30T05:26:44.365461",
     "status": "completed"
    },
    "tags": []
   },
   "outputs": [],
   "source": [
    "pipeline_logistic_regression_classifier = Pipeline([\n",
    "    ('preprocessor', preprocessor),\n",
    "    ('feature_selection', SelectKBest(f_classif, k='all')),\n",
    "    ('logistic_regression_classifier', LogisticRegression(max_iter=1500))   \n",
    "])\n",
    "\n",
    "logistic_regression_parameter_grid = [{'logistic_regression_classifier__penalty': ['l1', 'l2'],\n",
    "                   'logistic_regression_classifier__C': parameter_range_fl,\n",
    "                   'logistic_regression_classifier__solver': ['liblinear', 'saga']}]\n",
    "\n",
    "logistic_regression_grid_search = GridSearchCV(estimator=pipeline_logistic_regression_classifier,\n",
    "        param_grid=logistic_regression_parameter_grid,\n",
    "        scoring='accuracy',\n",
    "        cv=3, n_jobs=4)"
   ]
  },
  {
   "cell_type": "markdown",
   "id": "cd72badf",
   "metadata": {
    "papermill": {
     "duration": 0.016603,
     "end_time": "2025-03-30T05:26:44.424699",
     "exception": false,
     "start_time": "2025-03-30T05:26:44.408096",
     "status": "completed"
    },
    "tags": []
   },
   "source": [
    "<div style=\"border: 2px solid black; padding: 10px;\"> <h5 style= \"color:black; text-align:center;\">Ada Boost Classifier</h5></div>"
   ]
  },
  {
   "cell_type": "code",
   "execution_count": 25,
   "id": "eb11411e",
   "metadata": {
    "execution": {
     "iopub.execute_input": "2025-03-30T05:26:44.460023Z",
     "iopub.status.busy": "2025-03-30T05:26:44.459614Z",
     "iopub.status.idle": "2025-03-30T05:26:44.465425Z",
     "shell.execute_reply": "2025-03-30T05:26:44.464179Z"
    },
    "papermill": {
     "duration": 0.025873,
     "end_time": "2025-03-30T05:26:44.467430",
     "exception": false,
     "start_time": "2025-03-30T05:26:44.441557",
     "status": "completed"
    },
    "tags": []
   },
   "outputs": [],
   "source": [
    "pipeline_ada_boost_classifier = Pipeline([\n",
    "    ('preprocessor', preprocessor),\n",
    "    ('feature_selection', SelectKBest(f_classif, k='all')),\n",
    "    ('ada_boost_classifier', AdaBoostClassifier(random_state=42))\n",
    "])\n",
    "\n",
    "ada_boost_parameter_grid = [{'ada_boost_classifier__n_estimators': n_estimators,\n",
    "                   'ada_boost_classifier__learning_rate': learning_rates,\n",
    "                   'ada_boost_classifier__algorithm': ['SAMME']}]\n",
    "\n",
    "ada_boost_grid_search = GridSearchCV(estimator=pipeline_ada_boost_classifier,\n",
    "        param_grid=ada_boost_parameter_grid,\n",
    "        scoring='accuracy',\n",
    "        cv=3, n_jobs=4)"
   ]
  },
  {
   "cell_type": "markdown",
   "id": "dbad9630",
   "metadata": {
    "papermill": {
     "duration": 0.016958,
     "end_time": "2025-03-30T05:26:44.501251",
     "exception": false,
     "start_time": "2025-03-30T05:26:44.484293",
     "status": "completed"
    },
    "tags": []
   },
   "source": [
    "<div style=\"border: 2px solid black; padding: 10px;\"> <h5 style= \"color:black; text-align:center;\">EXtreme Gradient Boosting</h5></div>"
   ]
  },
  {
   "cell_type": "code",
   "execution_count": 26,
   "id": "34afc957",
   "metadata": {
    "execution": {
     "iopub.execute_input": "2025-03-30T05:26:44.536529Z",
     "iopub.status.busy": "2025-03-30T05:26:44.536080Z",
     "iopub.status.idle": "2025-03-30T05:26:44.541221Z",
     "shell.execute_reply": "2025-03-30T05:26:44.539978Z"
    },
    "papermill": {
     "duration": 0.025515,
     "end_time": "2025-03-30T05:26:44.543397",
     "exception": false,
     "start_time": "2025-03-30T05:26:44.517882",
     "status": "completed"
    },
    "tags": []
   },
   "outputs": [],
   "source": [
    "pipeline_eXtreme_gradient_Boosting = Pipeline([\n",
    "    ('preprocessor', preprocessor),\n",
    "    ('xgb_classifier', XGBClassifier())\n",
    "])"
   ]
  },
  {
   "cell_type": "markdown",
   "id": "9db278c6",
   "metadata": {
    "papermill": {
     "duration": 0.016351,
     "end_time": "2025-03-30T05:26:44.576375",
     "exception": false,
     "start_time": "2025-03-30T05:26:44.560024",
     "status": "completed"
    },
    "tags": []
   },
   "source": [
    "<div style=\"border: 2px solid black; padding: 10px;\"> <h5 style= \"color:black; text-align:center;\">Comparing diffrent Models</h5></div>"
   ]
  },
  {
   "cell_type": "code",
   "execution_count": 27,
   "id": "4a935f3a",
   "metadata": {
    "execution": {
     "iopub.execute_input": "2025-03-30T05:26:44.611582Z",
     "iopub.status.busy": "2025-03-30T05:26:44.611130Z",
     "iopub.status.idle": "2025-03-30T06:43:14.211710Z",
     "shell.execute_reply": "2025-03-30T06:43:14.210148Z"
    },
    "papermill": {
     "duration": 4589.622186,
     "end_time": "2025-03-30T06:43:14.215303",
     "exception": false,
     "start_time": "2025-03-30T05:26:44.593117",
     "status": "completed"
    },
    "tags": []
   },
   "outputs": [],
   "source": [
    "grid_search_list = [decision_tree_grid_search , logistic_regression_grid_search , ada_boost_grid_search, pipeline_eXtreme_gradient_Boosting]\n",
    "for pipeline in grid_search_list:\n",
    "    pipeline.fit(X_train,y_train)"
   ]
  },
  {
   "cell_type": "code",
   "execution_count": 28,
   "id": "cd6d410d",
   "metadata": {
    "execution": {
     "iopub.execute_input": "2025-03-30T06:43:14.256366Z",
     "iopub.status.busy": "2025-03-30T06:43:14.255855Z",
     "iopub.status.idle": "2025-03-30T06:43:22.775788Z",
     "shell.execute_reply": "2025-03-30T06:43:22.774955Z"
    },
    "papermill": {
     "duration": 8.541848,
     "end_time": "2025-03-30T06:43:22.777954",
     "exception": false,
     "start_time": "2025-03-30T06:43:14.236106",
     "status": "completed"
    },
    "tags": []
   },
   "outputs": [
    {
     "name": "stdout",
     "output_type": "stream",
     "text": [
      "Decision Trees Classifier Test Accuracy: 0.6012420493814794\n",
      "Decision Trees Classifier Best Params: {'decision_tree_classifier__criterion': 'log_loss', 'decision_tree_classifier__max_depth': 6, 'decision_tree_classifier__min_samples_leaf': 3, 'decision_tree_classifier__min_samples_split': 3}\n",
      "Logistic Regression Classifier Test Accuracy: 0.6132117994691241\n",
      "Logistic Regression Classifier Best Params: {'logistic_regression_classifier__C': 0.2, 'logistic_regression_classifier__penalty': 'l1', 'logistic_regression_classifier__solver': 'saga'}\n",
      "AdaBoost Classifier Test Accuracy: 0.6146141132869234\n",
      "AdaBoost Classifier Best Params: {'ada_boost_classifier__algorithm': 'SAMME', 'ada_boost_classifier__learning_rate': 1, 'ada_boost_classifier__n_estimators': 1000}\n",
      "pipeline_eXtreme_gradient_Boosting Test Accuracy: 0.6222767566484699\n"
     ]
    }
   ],
   "source": [
    "grid_search_dictionary = {0:'Decision Trees Classifier' , 1: 'Logistic Regression Classifier', 2: 'AdaBoost Classifier', 3: 'pipeline_eXtreme_gradient_Boosting'}\n",
    "#scoring of the scores & best parameters for the best model from all models\n",
    "for i, model in enumerate(grid_search_list):\n",
    "    print('{} Test Accuracy: {}'.format(grid_search_dictionary[i],model.score(X_test,y_test)))\n",
    "    if (grid_search_dictionary[i]!='pipeline_eXtreme_gradient_Boosting'):\n",
    "        print('{} Best Params: {}'.format(grid_search_dictionary[i],model.best_params_))"
   ]
  },
  {
   "cell_type": "markdown",
   "id": "829a829f",
   "metadata": {
    "papermill": {
     "duration": 0.017408,
     "end_time": "2025-03-30T06:43:22.815053",
     "exception": false,
     "start_time": "2025-03-30T06:43:22.797645",
     "status": "completed"
    },
    "tags": []
   },
   "source": [
    "# Model Comparison and Analysis\n",
    "\n",
    "## Model Performance Summary\n",
    "| Model | Test Accuracy |\n",
    "|--------|--------------|\n",
    "| **XGBoost** | **0.6223** |\n",
    "| **AdaBoost** | **0.6146** |\n",
    "| **Logistic Regression** | **0.6132** |\n",
    "| **Decision Trees** | **0.6012** |\n",
    "\n",
    "## Model Insights\n",
    "\n",
    "### 1. XGBoost Classifier\n",
    "**Test Accuracy: 0.6223**  \n",
    "XGBoost outperformed all other models, likely due to its ability to handle complex relationships and interactions within the data. XGBoost's boosting mechanism helps improve performance by iteratively reducing errors from previous iterations.\n",
    "\n",
    "### 2. AdaBoost Classifier\n",
    "**Test Accuracy: 0.6146**  \n",
    "AdaBoost was the second-best performing model. With **1,000 estimators** and a **SAMME algorithm**, it showed competitive performance. The iterative learning process allows it to focus on misclassified samples, improving accuracy."
   ]
  },
  {
   "cell_type": "markdown",
   "id": "24835d0e",
   "metadata": {
    "papermill": {
     "duration": 0.017455,
     "end_time": "2025-03-30T06:43:22.849489",
     "exception": false,
     "start_time": "2025-03-30T06:43:22.832034",
     "status": "completed"
    },
    "tags": []
   },
   "source": [
    "<div style=\"border: 2px solid black; padding: 10px;\"> <h4 style= \"color:black; text-align:center;\">Appying the chosen model on Traning Data</h4></div>"
   ]
  },
  {
   "cell_type": "code",
   "execution_count": 29,
   "id": "6dfe07fe",
   "metadata": {
    "execution": {
     "iopub.execute_input": "2025-03-30T06:43:22.885580Z",
     "iopub.status.busy": "2025-03-30T06:43:22.885142Z",
     "iopub.status.idle": "2025-03-30T06:43:22.889871Z",
     "shell.execute_reply": "2025-03-30T06:43:22.888607Z"
    },
    "papermill": {
     "duration": 0.025091,
     "end_time": "2025-03-30T06:43:22.891699",
     "exception": false,
     "start_time": "2025-03-30T06:43:22.866608",
     "status": "completed"
    },
    "tags": []
   },
   "outputs": [],
   "source": [
    "#Selecting the model with best performance\n",
    "model = grid_search_list[3]"
   ]
  },
  {
   "cell_type": "code",
   "execution_count": 30,
   "id": "842b34d5",
   "metadata": {
    "execution": {
     "iopub.execute_input": "2025-03-30T06:43:22.929241Z",
     "iopub.status.busy": "2025-03-30T06:43:22.928837Z",
     "iopub.status.idle": "2025-03-30T06:43:23.188777Z",
     "shell.execute_reply": "2025-03-30T06:43:23.187601Z"
    },
    "papermill": {
     "duration": 0.281227,
     "end_time": "2025-03-30T06:43:23.190964",
     "exception": false,
     "start_time": "2025-03-30T06:43:22.909737",
     "status": "completed"
    },
    "tags": []
   },
   "outputs": [
    {
     "data": {
      "text/html": [
       "<div>\n",
       "<style scoped>\n",
       "    .dataframe tbody tr th:only-of-type {\n",
       "        vertical-align: middle;\n",
       "    }\n",
       "\n",
       "    .dataframe tbody tr th {\n",
       "        vertical-align: top;\n",
       "    }\n",
       "\n",
       "    .dataframe thead th {\n",
       "        text-align: right;\n",
       "    }\n",
       "</style>\n",
       "<table border=\"1\" class=\"dataframe\">\n",
       "  <thead>\n",
       "    <tr style=\"text-align: right;\">\n",
       "      <th></th>\n",
       "      <th>MachineID</th>\n",
       "      <th>ProductName</th>\n",
       "      <th>EngineVersion</th>\n",
       "      <th>AppVersion</th>\n",
       "      <th>SignatureVersion</th>\n",
       "      <th>IsBetaUser</th>\n",
       "      <th>RealTimeProtectionState</th>\n",
       "      <th>IsPassiveModeEnabled</th>\n",
       "      <th>AntivirusConfigID</th>\n",
       "      <th>NumAntivirusProductsInstalled</th>\n",
       "      <th>...</th>\n",
       "      <th>FirmwareVersionID</th>\n",
       "      <th>IsSecureBootEnabled</th>\n",
       "      <th>IsVirtualDevice</th>\n",
       "      <th>IsTouchEnabled</th>\n",
       "      <th>IsPenCapable</th>\n",
       "      <th>IsAlwaysOnAlwaysConnectedCapable</th>\n",
       "      <th>IsGamer</th>\n",
       "      <th>RegionIdentifier</th>\n",
       "      <th>DateAS</th>\n",
       "      <th>DateOS</th>\n",
       "    </tr>\n",
       "  </thead>\n",
       "  <tbody>\n",
       "    <tr>\n",
       "      <th>0</th>\n",
       "      <td>c2c61173092ad20db5585ca8c10de6e0</td>\n",
       "      <td>win8defender</td>\n",
       "      <td>1.1.15100.1</td>\n",
       "      <td>4.18.1807.18075</td>\n",
       "      <td>1.273.1276.0</td>\n",
       "      <td>0</td>\n",
       "      <td>7.0</td>\n",
       "      <td>0</td>\n",
       "      <td>53447.0</td>\n",
       "      <td>1.0</td>\n",
       "      <td>...</td>\n",
       "      <td>48751.0</td>\n",
       "      <td>0</td>\n",
       "      <td>0.0</td>\n",
       "      <td>0</td>\n",
       "      <td>0</td>\n",
       "      <td>0.0</td>\n",
       "      <td>1.0</td>\n",
       "      <td>11.0</td>\n",
       "      <td>2018-08-12 13:12:00</td>\n",
       "      <td>2018-07-10</td>\n",
       "    </tr>\n",
       "    <tr>\n",
       "      <th>1</th>\n",
       "      <td>2e6bb5362ba1ce897feeb1de5edea686</td>\n",
       "      <td>win8defender</td>\n",
       "      <td>1.1.15100.1</td>\n",
       "      <td>4.10.209.0</td>\n",
       "      <td>1.273.371.0</td>\n",
       "      <td>0</td>\n",
       "      <td>7.0</td>\n",
       "      <td>0</td>\n",
       "      <td>46184.0</td>\n",
       "      <td>2.0</td>\n",
       "      <td>...</td>\n",
       "      <td>64709.0</td>\n",
       "      <td>1</td>\n",
       "      <td>0.0</td>\n",
       "      <td>0</td>\n",
       "      <td>0</td>\n",
       "      <td>0.0</td>\n",
       "      <td>0.0</td>\n",
       "      <td>12.0</td>\n",
       "      <td>2018-07-26 06:54:00</td>\n",
       "      <td>2016-10-11</td>\n",
       "    </tr>\n",
       "    <tr>\n",
       "      <th>2</th>\n",
       "      <td>692649baed1c50bb8d051ae7f06e3625</td>\n",
       "      <td>win8defender</td>\n",
       "      <td>1.1.15200.1</td>\n",
       "      <td>4.18.1807.18075</td>\n",
       "      <td>1.275.263.0</td>\n",
       "      <td>0</td>\n",
       "      <td>7.0</td>\n",
       "      <td>0</td>\n",
       "      <td>51954.0</td>\n",
       "      <td>2.0</td>\n",
       "      <td>...</td>\n",
       "      <td>33094.0</td>\n",
       "      <td>1</td>\n",
       "      <td>0.0</td>\n",
       "      <td>0</td>\n",
       "      <td>0</td>\n",
       "      <td>0.0</td>\n",
       "      <td>0.0</td>\n",
       "      <td>10.0</td>\n",
       "      <td>2018-08-27 17:29:00</td>\n",
       "      <td>2018-05-08</td>\n",
       "    </tr>\n",
       "    <tr>\n",
       "      <th>3</th>\n",
       "      <td>2ff95e7d97e9f80ec81c97622dd93ed6</td>\n",
       "      <td>win8defender</td>\n",
       "      <td>1.1.15300.6</td>\n",
       "      <td>4.18.1807.18075</td>\n",
       "      <td>1.277.58.0</td>\n",
       "      <td>0</td>\n",
       "      <td>7.0</td>\n",
       "      <td>0</td>\n",
       "      <td>41571.0</td>\n",
       "      <td>2.0</td>\n",
       "      <td>...</td>\n",
       "      <td>26184.0</td>\n",
       "      <td>1</td>\n",
       "      <td>0.0</td>\n",
       "      <td>0</td>\n",
       "      <td>0</td>\n",
       "      <td>0.0</td>\n",
       "      <td>0.0</td>\n",
       "      <td>10.0</td>\n",
       "      <td>2018-09-25 22:13:00</td>\n",
       "      <td>2018-05-08</td>\n",
       "    </tr>\n",
       "    <tr>\n",
       "      <th>4</th>\n",
       "      <td>256766b4c5011e146f05b323863e08a4</td>\n",
       "      <td>win8defender</td>\n",
       "      <td>1.1.14800.3</td>\n",
       "      <td>4.14.17639.18041</td>\n",
       "      <td>1.267.898.0</td>\n",
       "      <td>0</td>\n",
       "      <td>7.0</td>\n",
       "      <td>0</td>\n",
       "      <td>40645.0</td>\n",
       "      <td>3.0</td>\n",
       "      <td>...</td>\n",
       "      <td>12126.0</td>\n",
       "      <td>0</td>\n",
       "      <td>0.0</td>\n",
       "      <td>0</td>\n",
       "      <td>0</td>\n",
       "      <td>0.0</td>\n",
       "      <td>0.0</td>\n",
       "      <td>7.0</td>\n",
       "      <td>2018-05-06 01:31:00</td>\n",
       "      <td>2018-06-12</td>\n",
       "    </tr>\n",
       "  </tbody>\n",
       "</table>\n",
       "<p>5 rows × 75 columns</p>\n",
       "</div>"
      ],
      "text/plain": [
       "                          MachineID   ProductName EngineVersion  \\\n",
       "0  c2c61173092ad20db5585ca8c10de6e0  win8defender   1.1.15100.1   \n",
       "1  2e6bb5362ba1ce897feeb1de5edea686  win8defender   1.1.15100.1   \n",
       "2  692649baed1c50bb8d051ae7f06e3625  win8defender   1.1.15200.1   \n",
       "3  2ff95e7d97e9f80ec81c97622dd93ed6  win8defender   1.1.15300.6   \n",
       "4  256766b4c5011e146f05b323863e08a4  win8defender   1.1.14800.3   \n",
       "\n",
       "         AppVersion SignatureVersion  IsBetaUser  RealTimeProtectionState  \\\n",
       "0   4.18.1807.18075     1.273.1276.0           0                      7.0   \n",
       "1        4.10.209.0      1.273.371.0           0                      7.0   \n",
       "2   4.18.1807.18075      1.275.263.0           0                      7.0   \n",
       "3   4.18.1807.18075       1.277.58.0           0                      7.0   \n",
       "4  4.14.17639.18041      1.267.898.0           0                      7.0   \n",
       "\n",
       "   IsPassiveModeEnabled  AntivirusConfigID  NumAntivirusProductsInstalled  \\\n",
       "0                     0            53447.0                            1.0   \n",
       "1                     0            46184.0                            2.0   \n",
       "2                     0            51954.0                            2.0   \n",
       "3                     0            41571.0                            2.0   \n",
       "4                     0            40645.0                            3.0   \n",
       "\n",
       "   ...  FirmwareVersionID  IsSecureBootEnabled  IsVirtualDevice  \\\n",
       "0  ...            48751.0                    0              0.0   \n",
       "1  ...            64709.0                    1              0.0   \n",
       "2  ...            33094.0                    1              0.0   \n",
       "3  ...            26184.0                    1              0.0   \n",
       "4  ...            12126.0                    0              0.0   \n",
       "\n",
       "   IsTouchEnabled  IsPenCapable  IsAlwaysOnAlwaysConnectedCapable IsGamer  \\\n",
       "0               0             0                               0.0     1.0   \n",
       "1               0             0                               0.0     0.0   \n",
       "2               0             0                               0.0     0.0   \n",
       "3               0             0                               0.0     0.0   \n",
       "4               0             0                               0.0     0.0   \n",
       "\n",
       "  RegionIdentifier               DateAS      DateOS  \n",
       "0             11.0  2018-08-12 13:12:00  2018-07-10  \n",
       "1             12.0  2018-07-26 06:54:00  2016-10-11  \n",
       "2             10.0  2018-08-27 17:29:00  2018-05-08  \n",
       "3             10.0  2018-09-25 22:13:00  2018-05-08  \n",
       "4              7.0  2018-05-06 01:31:00  2018-06-12  \n",
       "\n",
       "[5 rows x 75 columns]"
      ]
     },
     "execution_count": 30,
     "metadata": {},
     "output_type": "execute_result"
    }
   ],
   "source": [
    "#Read Testing Data\n",
    "test_threat_data = pd.read_csv('/kaggle/input/System-Threat-Forecaster/test.csv')\n",
    "test_threat_data.head()"
   ]
  },
  {
   "cell_type": "code",
   "execution_count": 31,
   "id": "ec884e02",
   "metadata": {
    "execution": {
     "iopub.execute_input": "2025-03-30T06:43:23.230157Z",
     "iopub.status.busy": "2025-03-30T06:43:23.229730Z",
     "iopub.status.idle": "2025-03-30T06:43:23.249959Z",
     "shell.execute_reply": "2025-03-30T06:43:23.248496Z"
    },
    "papermill": {
     "duration": 0.042394,
     "end_time": "2025-03-30T06:43:23.251916",
     "exception": false,
     "start_time": "2025-03-30T06:43:23.209522",
     "status": "completed"
    },
    "tags": []
   },
   "outputs": [
    {
     "name": "stdout",
     "output_type": "stream",
     "text": [
      "                             MachineID   ProductName EngineVersion  \\\n",
      "0     c2c61173092ad20db5585ca8c10de6e0  win8defender   1.1.15100.1   \n",
      "1     2e6bb5362ba1ce897feeb1de5edea686  win8defender   1.1.15100.1   \n",
      "2     692649baed1c50bb8d051ae7f06e3625  win8defender   1.1.15200.1   \n",
      "3     2ff95e7d97e9f80ec81c97622dd93ed6  win8defender   1.1.15300.6   \n",
      "4     256766b4c5011e146f05b323863e08a4  win8defender   1.1.14800.3   \n",
      "...                                ...           ...           ...   \n",
      "9995  42d3ddb25eeb149517e2b6871b061df4  win8defender   1.1.15200.1   \n",
      "9996  3d474c494d797cafc2ab1665711f0f91  win8defender   1.1.15100.1   \n",
      "9997  9aee2fc73af8240a688ceb83d41c0418  win8defender   1.1.15200.1   \n",
      "9998  a2f8c1f88b78271c38767fe43850b359  win8defender   1.1.15200.1   \n",
      "9999  c1c85a860e30097b03c815aa908cd17d  win8defender   1.1.15000.2   \n",
      "\n",
      "            AppVersion SignatureVersion  IsBetaUser  RealTimeProtectionState  \\\n",
      "0      4.18.1807.18075     1.273.1276.0           0                      7.0   \n",
      "1           4.10.209.0      1.273.371.0           0                      7.0   \n",
      "2      4.18.1807.18075      1.275.263.0           0                      7.0   \n",
      "3      4.18.1807.18075       1.277.58.0           0                      7.0   \n",
      "4     4.14.17639.18041      1.267.898.0           0                      7.0   \n",
      "...                ...              ...         ...                      ...   \n",
      "9995   4.18.1807.18075     1.275.1329.0           0                      7.0   \n",
      "9996      4.11.15063.0      1.273.894.0           0                      7.0   \n",
      "9997   4.18.1807.18075      1.275.504.0           0                      7.0   \n",
      "9998   4.18.1807.18075      1.275.461.0           0                      7.0   \n",
      "9999   4.18.1806.18062     1.271.1068.0           0                      7.0   \n",
      "\n",
      "      IsPassiveModeEnabled  AntivirusConfigID  NumAntivirusProductsInstalled  \\\n",
      "0                        0            53447.0                            1.0   \n",
      "1                        0            46184.0                            2.0   \n",
      "2                        0            51954.0                            2.0   \n",
      "3                        0            41571.0                            2.0   \n",
      "4                        0            40645.0                            3.0   \n",
      "...                    ...                ...                            ...   \n",
      "9995                     0            32554.0                            3.0   \n",
      "9996                     0            53447.0                            1.0   \n",
      "9997                     0            47238.0                            2.0   \n",
      "9998                     0            53447.0                            1.0   \n",
      "9999                     0            41571.0                            2.0   \n",
      "\n",
      "      ...  FirmwareVersionID  IsSecureBootEnabled  IsVirtualDevice  \\\n",
      "0     ...            48751.0                    0              0.0   \n",
      "1     ...            64709.0                    1              0.0   \n",
      "2     ...            33094.0                    1              0.0   \n",
      "3     ...            26184.0                    1              0.0   \n",
      "4     ...            12126.0                    0              0.0   \n",
      "...   ...                ...                  ...              ...   \n",
      "9995  ...            20107.0                    0              0.0   \n",
      "9996  ...            11386.0                    0              0.0   \n",
      "9997  ...            12247.0                    1              0.0   \n",
      "9998  ...             4269.0                    1              0.0   \n",
      "9999  ...            19970.0                    0              0.0   \n",
      "\n",
      "      IsTouchEnabled  IsPenCapable  IsAlwaysOnAlwaysConnectedCapable IsGamer  \\\n",
      "0                  0             0                               0.0     1.0   \n",
      "1                  0             0                               0.0     0.0   \n",
      "2                  0             0                               0.0     0.0   \n",
      "3                  0             0                               0.0     0.0   \n",
      "4                  0             0                               0.0     0.0   \n",
      "...              ...           ...                               ...     ...   \n",
      "9995               0             0                               0.0     0.0   \n",
      "9996               0             0                               0.0     1.0   \n",
      "9997               0             0                               0.0     0.0   \n",
      "9998               0             0                               0.0     0.0   \n",
      "9999               0             0                               0.0     0.0   \n",
      "\n",
      "     RegionIdentifier               DateAS      DateOS  \n",
      "0                11.0  2018-08-12 13:12:00  2018-07-10  \n",
      "1                12.0  2018-07-26 06:54:00  2016-10-11  \n",
      "2                10.0  2018-08-27 17:29:00  2018-05-08  \n",
      "3                10.0  2018-09-25 22:13:00  2018-05-08  \n",
      "4                 7.0  2018-05-06 01:31:00  2018-06-12  \n",
      "...               ...                  ...         ...  \n",
      "9995             13.0  2018-09-16 18:15:00  2018-09-11  \n",
      "9996              1.0  2018-08-05 22:50:00  2017-04-05  \n",
      "9997             11.0  2018-08-31 16:03:00  2018-06-12  \n",
      "9998             10.0  2018-08-30 18:35:00  2017-12-12  \n",
      "9999             12.0  2018-07-16 16:11:00  2018-07-10  \n",
      "\n",
      "[10000 rows x 75 columns]\n"
     ]
    }
   ],
   "source": [
    "print(test_threat_data)"
   ]
  },
  {
   "cell_type": "code",
   "execution_count": 32,
   "id": "e52e17af",
   "metadata": {
    "execution": {
     "iopub.execute_input": "2025-03-30T06:43:23.290638Z",
     "iopub.status.busy": "2025-03-30T06:43:23.290142Z",
     "iopub.status.idle": "2025-03-30T06:43:23.297468Z",
     "shell.execute_reply": "2025-03-30T06:43:23.296234Z"
    },
    "papermill": {
     "duration": 0.029148,
     "end_time": "2025-03-30T06:43:23.299603",
     "exception": false,
     "start_time": "2025-03-30T06:43:23.270455",
     "status": "completed"
    },
    "tags": []
   },
   "outputs": [],
   "source": [
    "# Check if 'ID' column exists and rename or create it if necessary\n",
    "if 'ID' in test_threat_data.columns:\n",
    "    identifier_column = 'ID'\n",
    "elif 'id' in test_threat_data.columns:\n",
    "    identifier_column = 'id'\n",
    "else:\n",
    "    test_threat_data['ID'] = range(0, len(test_threat_data))\n",
    "    identifier_column = 'ID'\n",
    "\n",
    "# Ensure test_threat_dataset has the same columns as X_train, except for the target variable\n",
    "missing_cols = set(X_train.columns) - set(test_threat_data.columns)\n",
    "if missing_cols:\n",
    "    raise ValueError(f\"Missing columns in test train_threat_data: {missing_cols}\")"
   ]
  },
  {
   "cell_type": "code",
   "execution_count": 33,
   "id": "9fd73b3b",
   "metadata": {
    "execution": {
     "iopub.execute_input": "2025-03-30T06:43:23.337290Z",
     "iopub.status.busy": "2025-03-30T06:43:23.336872Z",
     "iopub.status.idle": "2025-03-30T06:43:23.803491Z",
     "shell.execute_reply": "2025-03-30T06:43:23.802511Z"
    },
    "papermill": {
     "duration": 0.488449,
     "end_time": "2025-03-30T06:43:23.805957",
     "exception": false,
     "start_time": "2025-03-30T06:43:23.317508",
     "status": "completed"
    },
    "tags": []
   },
   "outputs": [],
   "source": [
    "# Predict on the test data\n",
    "y_predicted = model.predict(test_threat_data)"
   ]
  },
  {
   "cell_type": "markdown",
   "id": "eab3f9aa",
   "metadata": {
    "papermill": {
     "duration": 0.01826,
     "end_time": "2025-03-30T06:43:23.857870",
     "exception": false,
     "start_time": "2025-03-30T06:43:23.839610",
     "status": "completed"
    },
    "tags": []
   },
   "source": [
    "<div style=\"border: 2px solid black; padding: 10px;\"> <h4 style= \"color:black; text-align:center;\">Creating the Submission.csv and Submiting it</h4></div>"
   ]
  },
  {
   "cell_type": "code",
   "execution_count": 34,
   "id": "47387eb7",
   "metadata": {
    "execution": {
     "iopub.execute_input": "2025-03-30T06:43:23.898213Z",
     "iopub.status.busy": "2025-03-30T06:43:23.897843Z",
     "iopub.status.idle": "2025-03-30T06:43:23.930801Z",
     "shell.execute_reply": "2025-03-30T06:43:23.929115Z"
    },
    "papermill": {
     "duration": 0.055416,
     "end_time": "2025-03-30T06:43:23.933822",
     "exception": false,
     "start_time": "2025-03-30T06:43:23.878406",
     "status": "completed"
    },
    "tags": []
   },
   "outputs": [
    {
     "name": "stdout",
     "output_type": "stream",
     "text": [
      "        id  target\n",
      "0        0       1\n",
      "1        1       1\n",
      "2        2       1\n",
      "3        3       0\n",
      "4        4       0\n",
      "...    ...     ...\n",
      "9995  9995       0\n",
      "9996  9996       1\n",
      "9997  9997       0\n",
      "9998  9998       1\n",
      "9999  9999       0\n",
      "\n",
      "[10000 rows x 2 columns]\n"
     ]
    }
   ],
   "source": [
    "# Create a submission DataFrame\n",
    "submission_data = pd.DataFrame({\n",
    "    'id': test_threat_data[identifier_column],  # Use the correct identifier column\n",
    "    'target': y_predicted\n",
    "})\n",
    "print(submission_data)\n",
    "\n",
    "# Save the submission file\n",
    "submission_data.to_csv('/kaggle/working/submission.csv', index=False)"
   ]
  }
 ],
 "metadata": {
  "kaggle": {
   "accelerator": "none",
   "dataSources": [
    {
     "databundleVersionId": 10592855,
     "sourceId": 90791,
     "sourceType": "competition"
    }
   ],
   "dockerImageVersionId": 30839,
   "isGpuEnabled": false,
   "isInternetEnabled": true,
   "language": "python",
   "sourceType": "notebook"
  },
  "kernelspec": {
   "display_name": "Python 3",
   "language": "python",
   "name": "python3"
  },
  "language_info": {
   "codemirror_mode": {
    "name": "ipython",
    "version": 3
   },
   "file_extension": ".py",
   "mimetype": "text/x-python",
   "name": "python",
   "nbconvert_exporter": "python",
   "pygments_lexer": "ipython3",
   "version": "3.10.12"
  },
  "papermill": {
   "default_parameters": {},
   "duration": 4616.771422,
   "end_time": "2025-03-30T06:43:25.101403",
   "environment_variables": {},
   "exception": null,
   "input_path": "__notebook__.ipynb",
   "output_path": "__notebook__.ipynb",
   "parameters": {},
   "start_time": "2025-03-30T05:26:28.329981",
   "version": "2.6.0"
  }
 },
 "nbformat": 4,
 "nbformat_minor": 5
}
